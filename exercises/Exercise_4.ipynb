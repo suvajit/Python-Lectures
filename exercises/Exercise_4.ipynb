{
 "cells": [
  {
   "cell_type": "markdown",
   "metadata": {},
   "source": [
    "# Exercise 4"
   ]
  },
  {
   "cell_type": "markdown",
   "metadata": {},
   "source": [
    "## Practice exercise on Topics :\n",
    "\n",
    "### - Defining Functions\n",
    "\n",
    "### - Default Arguments\n",
    "\n",
    "### - Variable Scope\n",
    "\n",
    "### - Global Variables \n",
    "\n",
    "### - Keyword Arguments\n",
    "\n",
    "### - Lambda Expressions\n",
    "\n",
    "### - Documentation Strings"
   ]
  },
  {
   "cell_type": "markdown",
   "metadata": {},
   "source": [
    "## Level : Easy"
   ]
  },
  {
   "cell_type": "markdown",
   "metadata": {},
   "source": [
    "#### 1. Write a Python function to sum all the numbers in a list. \n",
    "\n",
    "Sample List : (8, 2, 3, 0, 7)\n",
    "    \n",
    "Expected Output : 20"
   ]
  },
  {
   "cell_type": "code",
   "execution_count": null,
   "metadata": {},
   "outputs": [],
   "source": []
  },
  {
   "cell_type": "markdown",
   "metadata": {},
   "source": [
    "#### 2. Write a function that returns the lesser of two given numbers if both numbers are even, but returns the greater if one or both numbers are odd\n",
    "\n",
    "lesser_of_two_evens(2,4) --> 2\n",
    "\n",
    "lesser_of_two_evens(2,5) --> 5"
   ]
  },
  {
   "cell_type": "code",
   "execution_count": null,
   "metadata": {},
   "outputs": [],
   "source": []
  },
  {
   "cell_type": "markdown",
   "metadata": {},
   "source": [
    "#### 3. Create a function showEmployee() in such a way that it should accept employee name, and it’s salary and display both, and if the salary is missing in function call it should show it as 9000.\n",
    "\n",
    "\n",
    "Example:\n",
    "\n",
    "showEmployee(\"Douglas\", 9000)\n",
    "\n",
    "showEmployee(\"Douglas\")\n",
    "\n",
    "Expected Output:\n",
    "\n",
    "Employee Douglas salary is: 9000\n",
    "\n",
    "Employee Douglas salary is: 9000"
   ]
  },
  {
   "cell_type": "code",
   "execution_count": null,
   "metadata": {},
   "outputs": [],
   "source": []
  },
  {
   "cell_type": "markdown",
   "metadata": {},
   "source": [
    "#### 4. What would be the expected output of the given program?\n",
    "\n",
    "def foo(x, y):\n",
    "    \n",
    "    global a\n",
    "    \n",
    "    a = 42\n",
    "    \n",
    "    x,y = y,x\n",
    "    \n",
    "    b = 33\n",
    "    \n",
    "    b = 17\n",
    "    \n",
    "    c = 100\n",
    "    \n",
    "    print(a,b,x,y)\n",
    "\n",
    "a, b, x, y = 1, 15, 3,4 \n",
    "\n",
    "foo(17, 4)\n",
    "\n",
    "print(a, b, x, y)"
   ]
  },
  {
   "cell_type": "code",
   "execution_count": null,
   "metadata": {},
   "outputs": [],
   "source": []
  },
  {
   "cell_type": "markdown",
   "metadata": {},
   "source": [
    "#### 5.What is the output of the given program\n",
    "\n",
    "x = \"awesome\"\n",
    "\n",
    "def myfunc():\n",
    "\n",
    "      x = \"fantastic\"\n",
    "      \n",
    "      print(\"Python is \" + x)\n",
    "\n",
    "myfunc()\n",
    "\n",
    "print(\"Python is \" + x)"
   ]
  },
  {
   "cell_type": "code",
   "execution_count": null,
   "metadata": {},
   "outputs": [],
   "source": []
  },
  {
   "cell_type": "markdown",
   "metadata": {},
   "source": [
    "#### 6. What will the output of the following program be?\n",
    "\n",
    "x = 300\n",
    "\n",
    "def myfunc():\n",
    "    \n",
    "       x = 200\n",
    "\n",
    "       print(x)\n",
    "\n",
    "myfunc()\n",
    "\n",
    "print(x)"
   ]
  },
  {
   "cell_type": "code",
   "execution_count": null,
   "metadata": {},
   "outputs": [],
   "source": []
  },
  {
   "cell_type": "markdown",
   "metadata": {},
   "source": [
    "#### 7. How would you make the variable x a global variable? Fill in the space with an appropriate code and obtain the output\n",
    "\n",
    "def myfunc():\n",
    "    \n",
    "     _______________\n",
    " \n",
    "     x = 300\n",
    "\n",
    "myfunc()\n",
    "\n",
    "print(x)"
   ]
  },
  {
   "cell_type": "code",
   "execution_count": null,
   "metadata": {},
   "outputs": [],
   "source": []
  },
  {
   "cell_type": "markdown",
   "metadata": {},
   "source": [
    "#### 8. Using Lambda expressions, add 10 to argument x, and return the result.\n",
    "\n",
    "a = lambda ____________________________________________\n",
    "\n",
    "print(a(5))"
   ]
  },
  {
   "cell_type": "code",
   "execution_count": null,
   "metadata": {},
   "outputs": [],
   "source": []
  },
  {
   "cell_type": "markdown",
   "metadata": {},
   "source": [
    "#### 9. Write a function func1() such that it can accept a variable length of  argument and print all arguments value.\n",
    "\n",
    "Hint: Use *args\n",
    "\n",
    "func1(20, 40, 60)\n",
    "\n",
    "func1(80, 100)\n",
    "\n",
    "Expected Output:\n",
    "\n",
    "After func1(20, 40, 60):\n",
    "\n",
    "20\n",
    "40\n",
    "60\n",
    "\n",
    "After func1(80, 100):\n",
    "\n",
    "80\n",
    "100"
   ]
  },
  {
   "cell_type": "code",
   "execution_count": null,
   "metadata": {},
   "outputs": [],
   "source": []
  },
  {
   "cell_type": "markdown",
   "metadata": {},
   "source": [
    "#### 10. Write a function called my_sum(a,b) that takes in 2 numbers as its arguments and returns the sum of the two numbers. Include the docstring in your function defining what the function does and the variable it accepts. Print out the docstring using the help() function. "
   ]
  },
  {
   "cell_type": "code",
   "execution_count": null,
   "metadata": {},
   "outputs": [],
   "source": []
  },
  {
   "cell_type": "markdown",
   "metadata": {},
   "source": [
    "## Level : Moderate"
   ]
  },
  {
   "cell_type": "markdown",
   "metadata": {},
   "source": [
    "#### 1. Write a function that returns the lesser of two given numbers if both numbers are even, but returns the greater if one or both numbers are odd\n",
    "\n",
    "lesser_of_two_evens(2,4) --> 2\n",
    "\n",
    "lesser_of_two_evens(2,5) --> 5"
   ]
  },
  {
   "cell_type": "code",
   "execution_count": null,
   "metadata": {},
   "outputs": [],
   "source": []
  },
  {
   "cell_type": "markdown",
   "metadata": {},
   "source": [
    "#### 2. Write a function takes a two-word string and returns True if both words begin with same letter\n",
    "\n",
    "animal_crackers('Levelheaded Llama') --> True\n",
    "\n",
    "animal_crackers('Crazy Kangaroo') --> False"
   ]
  },
  {
   "cell_type": "code",
   "execution_count": null,
   "metadata": {},
   "outputs": [],
   "source": []
  },
  {
   "cell_type": "markdown",
   "metadata": {},
   "source": [
    "#### 3. Define a function called a_func() that takes in a string and returns a matching string where every even letter is uppercase and every odd letter is lowercase.\n",
    "\n",
    "Example: a_func('Anthropomorphism')\n",
    "    \n",
    "Output : 'AnThRoPoMoRpHiSm'"
   ]
  },
  {
   "cell_type": "code",
   "execution_count": null,
   "metadata": {},
   "outputs": [],
   "source": []
  },
  {
   "cell_type": "markdown",
   "metadata": {},
   "source": [
    "#### 4. Write a Python program to square and cube every number in a given list of integers using Lambda.\n",
    "\n",
    "Example Output\n",
    "\n",
    "Original list of integers:\n",
    "[1, 2, 3, 4, 5, 6, 7, 8, 9, 10]\n",
    "\n",
    "Square every number of the said list:\n",
    "[1, 4, 9, 16, 25, 36, 49, 64, 81, 100]\n",
    "\n",
    "Cube every number of the said list:\n",
    "[1, 8, 27, 64, 125, 216, 343, 512, 729, 1000]"
   ]
  },
  {
   "cell_type": "code",
   "execution_count": null,
   "metadata": {},
   "outputs": [],
   "source": []
  },
  {
   "cell_type": "markdown",
   "metadata": {},
   "source": [
    "#### 5. Write a function that takes in arbitrary number of names and displays 'Hello <name>!' for each of the name\n",
    "    \n",
    "Input : my_names(stud1 = 'Sarah', stud2 = 'Henry', stud3 = 'Lola')\n",
    "  \n",
    "Output: \n",
    "    \n",
    "Hello Sarah!\n",
    "\n",
    "Hello Henry!\n",
    "    \n",
    "Hello Lola!\n",
    "         \n"
   ]
  },
  {
   "cell_type": "code",
   "execution_count": null,
   "metadata": {},
   "outputs": [],
   "source": []
  },
  {
   "cell_type": "markdown",
   "metadata": {},
   "source": [
    "#### 6. Write a Python program to calculate the sum of the positive and negative numbers of a given list of numbers using lambda function.\n",
    "\n",
    "Sample Output:\n",
    "    \n",
    "Original list: [2, 4, -6, -9, 11, -12, 14, -5, 17]\n",
    "    \n",
    "Sum of the positive numbers:  -32\n",
    "    \n",
    "Sum of the negative numbers:  48"
   ]
  },
  {
   "cell_type": "code",
   "execution_count": null,
   "metadata": {},
   "outputs": [],
   "source": []
  },
  {
   "cell_type": "markdown",
   "metadata": {},
   "source": [
    "#### 7. Write a Python program to find palindromes in a given list of strings using Lambda. \n",
    "\n",
    "Input : [\"chocolate\", \"civic\", \"afternoon\", \"madam\", \"fleece\"]\n",
    "\n",
    "Output: [\"civic\", \"madam\"]"
   ]
  },
  {
   "cell_type": "code",
   "execution_count": null,
   "metadata": {},
   "outputs": [],
   "source": []
  },
  {
   "cell_type": "markdown",
   "metadata": {},
   "source": [
    "#### 8.  Write a function called returnDay. This function takes in one parameter ( a number from 1-7) and returns the day of the week ( 1 is Sunday, 2 is Monday etc.). If the number is less than 1 or greater than 7, the function should return None.\n",
    "\n",
    " Expected output\n",
    "\n",
    " returnDay(1) --> Sunday"
   ]
  },
  {
   "cell_type": "code",
   "execution_count": null,
   "metadata": {},
   "outputs": [],
   "source": []
  },
  {
   "cell_type": "markdown",
   "metadata": {},
   "source": [
    "#### 9. Write a Python function that takes a list and returns a new list with unique elements of the first list.\n",
    "\n",
    "Sample List : [1,1,1,1,2,2,3,3,3,3,4,5]\n",
    "    \n",
    "Unique List : [1, 2, 3, 4, 5]"
   ]
  },
  {
   "cell_type": "code",
   "execution_count": null,
   "metadata": {},
   "outputs": [],
   "source": []
  },
  {
   "cell_type": "markdown",
   "metadata": {},
   "source": [
    "#### 10. Given three integers between 1 and 11, if their sum is less than or equal to 21, return their sum. If their sum exceeds 21 and there's an eleven, reduce the total sum by 10. Finally, if the sum (even after adjustment) exceeds 21, return 'BUST'\n",
    "\n",
    "blackjack(5,6,7) --> 18\n",
    "\n",
    "blackjack(9,9,9) --> 'BUST'\n",
    "\n",
    "blackjack(9,9,11) --> 19"
   ]
  },
  {
   "cell_type": "code",
   "execution_count": null,
   "metadata": {},
   "outputs": [],
   "source": []
  },
  {
   "cell_type": "markdown",
   "metadata": {},
   "source": [
    "## Level : Difficult"
   ]
  },
  {
   "cell_type": "markdown",
   "metadata": {},
   "source": [
    "#### 1. FIND 3 and 3:\n",
    "\n",
    "Given a list of ints, return True if the array contains a 3 next to a 3 somewhere.\n",
    "\n",
    "has_33([1, 3, 3]) → True\n",
    "\n",
    "has_33([1, 3, 1, 3]) → False\n",
    "\n",
    "has_33([3, 1, 3]) → False"
   ]
  },
  {
   "cell_type": "code",
   "execution_count": null,
   "metadata": {},
   "outputs": [],
   "source": []
  },
  {
   "cell_type": "markdown",
   "metadata": {},
   "source": [
    "#### 2. Write a function that takes in a list of integers and returns True if it contains 007 in order\n",
    "\n",
    " spy_game([1,2,4,0,0,7,5]) --> True\n",
    "    \n",
    " spy_game([1,0,2,4,0,5,7]) --> True\n",
    "\n",
    " spy_game([1,7,2,0,4,5,0]) --> False"
   ]
  },
  {
   "cell_type": "code",
   "execution_count": null,
   "metadata": {},
   "outputs": [],
   "source": []
  },
  {
   "cell_type": "markdown",
   "metadata": {},
   "source": [
    "#### 3. Create an inner function to calculate the addition in the following way\n",
    "\n",
    "* Create an outer function that will accept two parameters a and b\n",
    "* Create an inner function inside an outer function that will calculate the addition of a and b\n",
    "* At last, an outer function will add 5 into addition and return it"
   ]
  },
  {
   "cell_type": "code",
   "execution_count": null,
   "metadata": {},
   "outputs": [],
   "source": []
  },
  {
   "cell_type": "markdown",
   "metadata": {},
   "source": [
    "#### 4. Write a Python program to extract year, month, date and time using Lambda\n",
    "\n",
    "Sample Output:\n",
    "\n",
    "2020-01-15 09:03:32.744178\n",
    "\n",
    "2020\n",
    "\n",
    "1\n",
    "\n",
    "15\n",
    "\n",
    "09:03:32.744178"
   ]
  },
  {
   "cell_type": "code",
   "execution_count": null,
   "metadata": {},
   "outputs": [],
   "source": []
  },
  {
   "cell_type": "markdown",
   "metadata": {},
   "source": [
    "#### 5. Write a Python program to find the numbers of a given string and store them in a list, display the numbers which are bigger than the length of the list in sorted form. Use lambda function to solve the problem.\n",
    "\n",
    "Example Output:\n",
    "\n",
    "Original string:  sdf 23 safs8 5 sdfsd8 sdfs 56 21sfs 20 5\n",
    "\n",
    "Numbers in sorted form:\n",
    "\n",
    "20 23 56"
   ]
  },
  {
   "cell_type": "code",
   "execution_count": null,
   "metadata": {},
   "outputs": [],
   "source": []
  },
  {
   "cell_type": "markdown",
   "metadata": {},
   "source": [
    "#### 6. Write a Python program to create the next bigger number by rearranging the digits of a given number.\n",
    "\n",
    "Original number: 12\n",
    "\n",
    "Next bigger number: 21\n",
    "\n",
    "Original number: 10\n",
    "\n",
    "Next bigger number: False\n",
    "\n",
    "Original number: 201\n",
    "\n",
    "Next bigger number: 210\n",
    "\n",
    "Original number: 102\n",
    "\n",
    "Next bigger number: 120\n",
    "\n",
    "Original number: 445\n",
    "\n",
    "Next bigger number: 454"
   ]
  },
  {
   "cell_type": "code",
   "execution_count": null,
   "metadata": {},
   "outputs": [],
   "source": []
  },
  {
   "cell_type": "markdown",
   "metadata": {},
   "source": [
    "#### 7. Given a list of strings, return a list of the strings, omitting any string length 4 or more.\n",
    "\n",
    "\n",
    "noLong([\"this\", \"not\", \"too\", \"long\"]) → [\"not\", \"too\"]\n",
    "\n",
    "noLong([\"a\", \"bbb\", \"cccc\"]) → [\"a\", \"bbb\"]\n",
    "\n",
    "noLong([\"cccc\", \"cccc\", \"cccc\"]) → [ ]"
   ]
  },
  {
   "cell_type": "code",
   "execution_count": null,
   "metadata": {},
   "outputs": [],
   "source": []
  },
  {
   "cell_type": "markdown",
   "metadata": {},
   "source": [
    "#### 8. Write a Python program that sum the length of the names of a given list of names after removing the names that starts with a lowercase letter. Use lambda function.\n",
    "\n",
    "Input:\n",
    "\n",
    "sample_names = ['sally', 'Dylan', 'rebecca', 'Diana', 'Joanne', 'keith']\n",
    "\n",
    "Output: \n",
    "\n",
    "16"
   ]
  },
  {
   "cell_type": "code",
   "execution_count": null,
   "metadata": {},
   "outputs": [],
   "source": []
  },
  {
   "cell_type": "markdown",
   "metadata": {},
   "source": [
    "#### 9. Write a function that returns the number of prime numbers that exist up to and including a given number\n",
    "\n",
    "count_primes(100) --> 25\n",
    "\n",
    "By convention, 0 and 1 are not prime."
   ]
  },
  {
   "cell_type": "code",
   "execution_count": null,
   "metadata": {},
   "outputs": [],
   "source": []
  },
  {
   "cell_type": "markdown",
   "metadata": {},
   "source": [
    "#### 10. Return the sum of the numbers in the array, except ignore sections of numbers starting with a 6 and extending to the next 9 (every 6 will be followed by at least one 9). Return 0 for no numbers.\n",
    "\n",
    "summer_69([1, 3, 5]) --> 9\n",
    "\n",
    "summer_69([4, 5, 6, 7, 8, 9]) --> 9\n",
    "\n",
    "summer_69([2, 1, 6, 9, 11]) --> 14"
   ]
  },
  {
   "cell_type": "code",
   "execution_count": null,
   "metadata": {},
   "outputs": [],
   "source": []
  }
 ],
 "metadata": {
  "kernelspec": {
   "display_name": "Python 3",
   "language": "python",
   "name": "python3"
  },
  "language_info": {
   "codemirror_mode": {
    "name": "ipython",
    "version": 3
   },
   "file_extension": ".py",
   "mimetype": "text/x-python",
   "name": "python",
   "nbconvert_exporter": "python",
   "pygments_lexer": "ipython3",
   "version": "3.7.9"
  }
 },
 "nbformat": 4,
 "nbformat_minor": 4
}
