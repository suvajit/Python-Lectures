{
 "cells": [
  {
   "cell_type": "markdown",
   "metadata": {},
   "source": [
    "# Exercise 7 \n",
    "\n",
    "## Practice exercise on Topics:\n",
    "\n",
    "### - Errors and Exceptions\n",
    "### - Handling and Raising exceptions\n",
    "### - User defined exceptions\n"
   ]
  },
  {
   "cell_type": "markdown",
   "metadata": {},
   "source": [
    "## Level : Easy"
   ]
  },
  {
   "cell_type": "markdown",
   "metadata": {},
   "source": [
    "#### 1. What type of  error does the below code produce.\n",
    "marks = 10000\n",
    "\n",
    "a = marks / 0\n",
    "\n",
    "print(a)"
   ]
  },
  {
   "cell_type": "code",
   "execution_count": null,
   "metadata": {},
   "outputs": [],
   "source": []
  },
  {
   "cell_type": "markdown",
   "metadata": {},
   "source": [
    "#### 2.  What is the output of the given program\n",
    "a = [1, 2, 3]\n",
    "\n",
    "try: \n",
    "\n",
    "    print \"Second element = %d\" %(a[1]) \n",
    "  \n",
    "   \n",
    "except IndexError: \n",
    "\n",
    "    print \"An error occurred\""
   ]
  },
  {
   "cell_type": "code",
   "execution_count": null,
   "metadata": {},
   "outputs": [],
   "source": []
  },
  {
   "cell_type": "markdown",
   "metadata": {},
   "source": [
    "#### 3. Which keyword would execute the last print statement irrespective of wether or not an exception occurs.\n",
    "try:  \n",
    "\n",
    "    k = 5//0   \n",
    "    print(k)  \n",
    "    \n",
    "     \n",
    "except ZeroDivisionError:   \n",
    "\n",
    "    print(\"Can't divide by zero\")  \n",
    "        \n",
    "__________:   \n",
    "    print('This is always executed')"
   ]
  },
  {
   "cell_type": "code",
   "execution_count": null,
   "metadata": {},
   "outputs": [],
   "source": []
  },
  {
   "cell_type": "markdown",
   "metadata": {},
   "source": [
    "#### 4. Which keyword would raise an exception?\n",
    "try: \n",
    "\n",
    "    _______ NameError(\"Hi there\") \n",
    "    \n",
    "except NameError: \n",
    "\n",
    "    print \"An exception\"\n",
    "    _________   "
   ]
  },
  {
   "cell_type": "code",
   "execution_count": null,
   "metadata": {},
   "outputs": [],
   "source": []
  },
  {
   "cell_type": "markdown",
   "metadata": {},
   "source": [
    "#### 5. What is the output of the following code ? \n",
    "\n",
    "try:\n",
    "\n",
    "    if '2' != 2:\n",
    "        raise ValueError\n",
    "    else:\n",
    "        print('same')\n",
    "        \n",
    "except ValueError:\n",
    "\n",
    "    print('ValueError')\n",
    "    \n",
    "except NameError:\n",
    "\n",
    "    print('NameError')"
   ]
  },
  {
   "cell_type": "code",
   "execution_count": null,
   "metadata": {},
   "outputs": [],
   "source": []
  },
  {
   "cell_type": "markdown",
   "metadata": {},
   "source": [
    "#### 6. What is the output of the following code ? \n",
    "\n",
    "try:\n",
    "\n",
    "    print('try')\n",
    "    \n",
    "except ValueError:\n",
    "\n",
    "    print('ValueError')\n",
    "    \n",
    "finally:\n",
    "\n",
    "    print('finally')"
   ]
  },
  {
   "cell_type": "code",
   "execution_count": null,
   "metadata": {},
   "outputs": [],
   "source": []
  },
  {
   "cell_type": "markdown",
   "metadata": {},
   "source": [
    "#### 7. Handle the exception thrown by the code below by using try and except blocks.\n",
    "\n",
    "\n",
    "for i in ['a','b','c']:\n",
    "\n",
    "    print(i**2)"
   ]
  },
  {
   "cell_type": "code",
   "execution_count": null,
   "metadata": {},
   "outputs": [],
   "source": []
  },
  {
   "cell_type": "markdown",
   "metadata": {},
   "source": [
    "#### 8. Handle the exception thrown by the code below by using try and except blocks. Then use a finally block to print 'All Done.'\n",
    "\n",
    "\n",
    "x = 5\n",
    "\n",
    "y = 0\n",
    "\n",
    "z = x/y"
   ]
  },
  {
   "cell_type": "code",
   "execution_count": null,
   "metadata": {},
   "outputs": [],
   "source": []
  },
  {
   "cell_type": "markdown",
   "metadata": {},
   "source": [
    "#### 9. Find potential sources of runtime errors in this code snippet:\n",
    "\n",
    "dividend = float(input(\"Please enter the dividend: \"))\n",
    "\n",
    "divisor = float(input(\"Please enter the divisor: \"))\n",
    "\n",
    "quotient = dividend / divisor\n",
    "\n",
    "quotient_rounded = math.round(quotient)"
   ]
  },
  {
   "cell_type": "code",
   "execution_count": null,
   "metadata": {},
   "outputs": [],
   "source": []
  },
  {
   "cell_type": "markdown",
   "metadata": {},
   "source": [
    "#### 10. Find potential sources of runtime errors in this code snippet:\n",
    "\n",
    "for x in range(a, b):\n",
    "\n",
    "    print(\"(%f, %f, %f)\" % my_list[x])"
   ]
  },
  {
   "cell_type": "code",
   "execution_count": null,
   "metadata": {},
   "outputs": [],
   "source": []
  },
  {
   "cell_type": "markdown",
   "metadata": {},
   "source": [
    "## Level : Moderate"
   ]
  },
  {
   "cell_type": "markdown",
   "metadata": {},
   "source": [
    "#### 1. Write a function that asks for an integer and prints the square of it. Use a while loop with a try, except, else block to account for incorrect inputs.\n",
    "\n",
    "\n",
    "def ask():\n",
    "    \n",
    "    pass\n",
    "\n",
    "ask()"
   ]
  },
  {
   "cell_type": "code",
   "execution_count": null,
   "metadata": {},
   "outputs": [],
   "source": []
  },
  {
   "cell_type": "markdown",
   "metadata": {},
   "source": [
    "#### 2. Find potential sources of logic errors in this code snippet:\n",
    "\n",
    "product = 0\n",
    "\n",
    "for i in range(10):\n",
    "\n",
    "    product *= i\n",
    "\n",
    "sum_squares = 0\n",
    "\n",
    "for i in range(10):\n",
    "\n",
    "    i_sq = i**2\n",
    "    \n",
    "sum_squares += i_sq\n",
    "\n",
    "nums = 0\n",
    "\n",
    "for num in range(10):\n",
    "\n",
    "    num += num"
   ]
  },
  {
   "cell_type": "code",
   "execution_count": null,
   "metadata": {},
   "outputs": [],
   "source": []
  },
  {
   "cell_type": "markdown",
   "metadata": {},
   "source": [
    "#### 3. Add a try-except statement to the body of this function which handles a possible IndexError, which could occur if the index provided exceeds the length of the list. Print an error message if this happens:\n",
    "\n",
    "def print_list_element(thelist, index):\n",
    "    \n",
    "    print(thelist[index])"
   ]
  },
  {
   "cell_type": "code",
   "execution_count": null,
   "metadata": {},
   "outputs": [],
   "source": []
  },
  {
   "cell_type": "markdown",
   "metadata": {},
   "source": [
    "## Level : Difficult"
   ]
  },
  {
   "cell_type": "markdown",
   "metadata": {},
   "source": [
    "#### 1. This function adds an element to a list inside a dict of lists. Rewrite it to use a try-except statement which handles a possible KeyError if the list with the name provided doesn’t exist in the dictionary yet, instead of checking beforehand whether it does. Include else and finally clauses in your try-except block:\n",
    "\n",
    "def add_to_list_in_dict(thedict, listname, element):\n",
    "    \n",
    "    if listname in thedict:\n",
    "        \n",
    "        l = thedict[listname]\n",
    "        \n",
    "        print(\"%s already has %d elements.\" % (listname, len(l)))\n",
    "        \n",
    "    else:\n",
    "        \n",
    "        thedict[listname] = []\n",
    "        \n",
    "        print(\"Created %s.\" % listname)\n",
    "\n",
    "    thedict[listname].append(element)\n",
    "\n",
    "    print(\"Added %s to %s.\" % (element, listname))"
   ]
  },
  {
   "cell_type": "code",
   "execution_count": null,
   "metadata": {},
   "outputs": [],
   "source": []
  },
  {
   "cell_type": "markdown",
   "metadata": {},
   "source": [
    "#### 2. You're going to write an interactive calculator! User input is assumed to be a formula that consist of a number, an operator (at least + and -), and another number, separated by white space (e.g. 1 + 1). Split user input using str.split(), and check whether the resulting list is valid:\n",
    "\n",
    "If the input does not consist of 3 elements, raise a FormulaError, which is a custom Exception.\n",
    "Try to convert the first and third input to a float (like so: float_value = float(str_value)). Catch any ValueError that occurs, and instead raise a FormulaError\n",
    "If the second input is not '+' or '-', again raise a FormulaError\n",
    "If the input is valid, perform the calculation and print out the result. The user is then prompted to provide new input, and so on, until the user enters quit.\n",
    "\n",
    "An interaction could look like this:\n",
    "\n",
    "     >>> 1 + 1\n",
    "\n",
    "         2.0\n",
    "\n",
    "     >>>3.2 - 1.5\n",
    "\n",
    "         1.7000000000000002\n",
    "\n",
    "      quit\n",
    "\n"
   ]
  },
  {
   "cell_type": "code",
   "execution_count": null,
   "metadata": {},
   "outputs": [],
   "source": []
  }
 ],
 "metadata": {
  "kernelspec": {
   "display_name": "Python 3",
   "language": "python",
   "name": "python3"
  },
  "language_info": {
   "codemirror_mode": {
    "name": "ipython",
    "version": 3
   },
   "file_extension": ".py",
   "mimetype": "text/x-python",
   "name": "python",
   "nbconvert_exporter": "python",
   "pygments_lexer": "ipython3",
   "version": "3.7.9"
  }
 },
 "nbformat": 4,
 "nbformat_minor": 4
}
