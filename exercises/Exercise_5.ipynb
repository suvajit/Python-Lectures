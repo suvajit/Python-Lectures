{
 "cells": [
  {
   "cell_type": "markdown",
   "metadata": {},
   "source": [
    "# Exercise 5\n",
    "\n",
    "## Practice exercise on Topics :\n",
    "\n",
    "### - OS Interface\n",
    "### - Reading and Writing Files\n",
    "### - Standard Library\n",
    "### - String Pattern Matching\n",
    "### - Dates & Time"
   ]
  },
  {
   "cell_type": "markdown",
   "metadata": {},
   "source": [
    "## Level : Easy"
   ]
  },
  {
   "cell_type": "markdown",
   "metadata": {},
   "source": [
    "#### 1. Write a Python program to get the name of the operating system (Platform independent), information of current operating system, current working directory using appropriate library provided by Python.\n",
    "\n",
    "Sample Output:\n",
    "\n",
    "Operating System: posix\n",
    "\n",
    "Information of current operating system:  posix.uname_result(sysname='Linux', nodename='b0e45c20d4ca', release='4.4.0-169-generic', version='#198-Ubuntu SMP Tue Nov 12 10:38:00 UTC 2019', machine='x86_64')\n",
    "\n",
    "Current Working Directory:  /tmp/sessions/7ae3772408a46b98\n"
   ]
  },
  {
   "cell_type": "code",
   "execution_count": null,
   "metadata": {},
   "outputs": [],
   "source": []
  },
  {
   "cell_type": "markdown",
   "metadata": {},
   "source": [
    "#### 2. Write a Python program to retrieve the current working directory and change the dir (moving up one).\n",
    "Sample Output:\n",
    "\n",
    "Current dir: /tmp/sessions/a9c74a8fb247929c\n",
    "\n",
    "Change the dir (moving up one): ..\n",
    "\n",
    "Current dir: /tmp/sessions\n",
    "\n",
    "Change the dir (moving up one): ..\n",
    "\n",
    "Current dir: /tmp"
   ]
  },
  {
   "cell_type": "code",
   "execution_count": null,
   "metadata": {},
   "outputs": [],
   "source": []
  },
  {
   "cell_type": "markdown",
   "metadata": {},
   "source": [
    "#### 3. Write a Python program to read an entire text file.\n",
    "Contents of the text file sample: \n",
    "\n",
    "What is Python language?                                                \n",
    "Python is a widely used high-level, general-purpose, interpreted, dynamic programming language.Its design philosophy emphasizes code readability, and its syntax allows programmers to express concepts in fewer lines of code than possible in \n",
    "languages such as C++ or Java. \n",
    "Python supports multiple programming paradigms, including object-oriented, imperative and functional programming or procedural styles. It features a dynamic type system and automatic memory management and has a large and comprehensive standard library.The best way we learn anything is by practice and exercise questions. We  have started this section for those (beginner to intermediate) who are familiar with Python."
   ]
  },
  {
   "cell_type": "code",
   "execution_count": null,
   "metadata": {},
   "outputs": [],
   "source": []
  },
  {
   "cell_type": "markdown",
   "metadata": {},
   "source": [
    "#### 4. Write a Python program to read a file line by line store it into a variable.\n",
    "Consider the text in above question. \n",
    "\n",
    "Sample Output:\n",
    "\n",
    "['First Line.\\n', 'Second Line.\\n\n",
    "', 'Third Line.\\n', 'Fourth Line.\\n', 'Fifth Line.\\n'] "
   ]
  },
  {
   "cell_type": "code",
   "execution_count": null,
   "metadata": {},
   "outputs": [],
   "source": []
  },
  {
   "cell_type": "markdown",
   "metadata": {},
   "source": [
    "#### 5. Write a Python program where a string will start with a specific number.\n",
    "\n",
    "Input strings :\n",
    "\n",
    "'5-2345861'\n",
    "\n",
    "'6-2345861'\n",
    "\n",
    "Sample Output:\n",
    "\n",
    "True                                                                                                      \n",
    "False"
   ]
  },
  {
   "cell_type": "code",
   "execution_count": null,
   "metadata": {},
   "outputs": [],
   "source": []
  },
  {
   "cell_type": "markdown",
   "metadata": {},
   "source": [
    "#### 6. Write a Python program to remove leading zeros from an IP address.\n",
    "ip = \"216.08.094.196\"\n",
    "\n",
    "Sample Output:\n",
    "216.8.94.196 "
   ]
  },
  {
   "cell_type": "code",
   "execution_count": null,
   "metadata": {},
   "outputs": [],
   "source": []
  },
  {
   "cell_type": "markdown",
   "metadata": {},
   "source": [
    "#### 7. Write a Python program to convert a string to datetime.\n",
    "Sample Output:\n",
    "\n",
    "2014-07-01 14:43:00 "
   ]
  },
  {
   "cell_type": "code",
   "execution_count": null,
   "metadata": {},
   "outputs": [],
   "source": []
  },
  {
   "cell_type": "markdown",
   "metadata": {},
   "source": [
    "#### 8. Write a Python program to get the current time.\n",
    "Sample Output:\n",
    "\n",
    "18:08:21.552122 "
   ]
  },
  {
   "cell_type": "code",
   "execution_count": null,
   "metadata": {},
   "outputs": [],
   "source": []
  },
  {
   "cell_type": "markdown",
   "metadata": {},
   "source": [
    "#### 9. Write a Python program that allows you to create a file on desktop called myFile.txt and write on it the content s = 'Python is oriented programming language'. You must at first retrieve the username via the os.getlogin() method."
   ]
  },
  {
   "cell_type": "code",
   "execution_count": null,
   "metadata": {},
   "outputs": [],
   "source": []
  },
  {
   "cell_type": "markdown",
   "metadata": {},
   "source": [
    "#### 10. Write a Python program to read the existing file on the desktop myFile.txt."
   ]
  },
  {
   "cell_type": "code",
   "execution_count": null,
   "metadata": {},
   "outputs": [],
   "source": []
  },
  {
   "cell_type": "markdown",
   "metadata": {},
   "source": [
    "## Level : Moderate"
   ]
  },
  {
   "cell_type": "markdown",
   "metadata": {},
   "source": [
    "#### 1. Write a Python program to list only directories, files and all directories, files in a specified path. \n",
    "\n",
    "Sample Output:\n",
    "\n",
    "Only directories:\n",
    "\n",
    "['a', 'b', 'c', 'd', 'e', 'f']\n",
    "\n",
    "Only files:\n",
    "\n",
    "['p.txt', 'q.txt', 'r.docx', 's.xlsx']\n",
    "\n",
    "All directories and files :\n",
    "\n",
    "['a', 'b', 'c', 'd', 'e', 'f', 'p.txt', 'q.txt', 'r.docx', 's.xlsx']"
   ]
  },
  {
   "cell_type": "code",
   "execution_count": null,
   "metadata": {},
   "outputs": [],
   "source": []
  },
  {
   "cell_type": "markdown",
   "metadata": {},
   "source": [
    "#### 2. Write a Python program to check for access to a specified path. Test the existence, readability, writability and executability of the specified path.\n",
    "Example Path : 'c:\\\\Users\\\\Public\\\\C programming library.docx'\n",
    "\n",
    "Sample Output:\n",
    "\n",
    "Exist: False\n",
    "\n",
    "Readable: False\n",
    "\n",
    "Writable: False\n",
    "\n",
    "Executable: False"
   ]
  },
  {
   "cell_type": "code",
   "execution_count": null,
   "metadata": {},
   "outputs": [],
   "source": []
  },
  {
   "cell_type": "markdown",
   "metadata": {},
   "source": [
    "#### 3. Write a python program to find the longest words.\n",
    "Contents of text.txt:\n",
    "\n",
    "Dogs and cats are common pets found. \n",
    "\n",
    "Sample Output:\n",
    "\n",
    "['common']"
   ]
  },
  {
   "cell_type": "code",
   "execution_count": null,
   "metadata": {},
   "outputs": [],
   "source": []
  },
  {
   "cell_type": "markdown",
   "metadata": {},
   "source": [
    "#### 4. Write a Python program to count the number of lines in a text file.\n",
    "Contents of the file :\n",
    "What is Python language?  \n",
    "Python is a widely used high-level, general-purpose, interpreted, dynamic programming language.\n",
    "Its design philosophy emphasizes code readability, and its syntax allows programmers to express concepts in fewer lines of code than possible in \n",
    "languages such as C++ or Java.  \n",
    "\n",
    "Sample Output : \n",
    "\n",
    "Number of Lines in the file : 6"
   ]
  },
  {
   "cell_type": "code",
   "execution_count": null,
   "metadata": {},
   "outputs": [],
   "source": []
  },
  {
   "cell_type": "markdown",
   "metadata": {},
   "source": [
    "#### 5. Write a Python program that matches a word at the beginning of a string.\n",
    "Input Strings:\n",
    "\n",
    "\"The quick brown fox jumps over the lazy dog.\"\n",
    "\n",
    "\"    The quick brown fox jumps over the lazy dog.\"\n",
    "\n",
    "Sample Output:\n",
    "\n",
    "Found a match!                                                                                                \n",
    "Not matched!\n",
    "\n",
    "\n"
   ]
  },
  {
   "cell_type": "code",
   "execution_count": null,
   "metadata": {},
   "outputs": [],
   "source": []
  },
  {
   "cell_type": "markdown",
   "metadata": {},
   "source": [
    "#### 6. Write a Python program that matches a word containing 'z'.\n",
    "\n",
    "Input Strings:\n",
    "\n",
    "The quick brown fox jumps over the lazy dog.\n",
    "\n",
    "Python Exercises.\n",
    "\n",
    "Sample Output:\n",
    "\n",
    "Found a match!                                                                                                \n",
    "Not matched!"
   ]
  },
  {
   "cell_type": "code",
   "execution_count": null,
   "metadata": {},
   "outputs": [],
   "source": []
  },
  {
   "cell_type": "markdown",
   "metadata": {},
   "source": [
    "#### 7. Write a Python script to display the various Date Time formats.\n",
    "\n",
    "a) Current date and time\n",
    "b) Current year\n",
    "c) Month of year\n",
    "d) Week number of the year\n",
    "e) Weekday of the week\n",
    "f) Day of year\n",
    "g) Day of the month\n",
    "h) Day of week\n",
    "\n",
    "Sample Output:\n",
    "\n",
    "Current date and time:  2017-05-05 17:21:19.106836                                                            \n",
    "Current year:  2017                                                                                           \n",
    "Month of year:  May                                                                                           \n",
    "Week number of the year:  18                                                                                  \n",
    "Weekday of the week:  5                                                                                       \n",
    "Day of year:  125                                                                                             \n",
    "Day of the month :  05                                                                                        \n",
    "Day of week:  Friday  "
   ]
  },
  {
   "cell_type": "code",
   "execution_count": null,
   "metadata": {},
   "outputs": [],
   "source": []
  },
  {
   "cell_type": "markdown",
   "metadata": {},
   "source": [
    "#### 8. Write a Python program to get days between two dates.\n",
    "Sample Output:\n",
    "\n",
    "366 days, 0:00:00"
   ]
  },
  {
   "cell_type": "code",
   "execution_count": null,
   "metadata": {},
   "outputs": [],
   "source": []
  },
  {
   "cell_type": "markdown",
   "metadata": {},
   "source": [
    "#### 9. Create manually  two files in the same directory:\n",
    "\n",
    "python_code.py\n",
    "\n",
    "myfile.txt\n",
    "\n",
    "1) - Create a Python program that writes the following three lines to the myfile.txt file:\n",
    "\n",
    "First line\n",
    "second line\n",
    "third line\n",
    "\n",
    "2) - Write a Python program on python_code.py that  replace the second line with the line:\n",
    "\"sorry! The content of this line has been changed! \""
   ]
  },
  {
   "cell_type": "code",
   "execution_count": null,
   "metadata": {},
   "outputs": [],
   "source": []
  },
  {
   "cell_type": "markdown",
   "metadata": {},
   "source": [
    "#### 10. Write a Python program that create a txt file called myfile.txt and write on it the texte: \"Python is object oriented programming language\". Write an ohter python program that removes the 3rd word from this file."
   ]
  },
  {
   "cell_type": "code",
   "execution_count": null,
   "metadata": {},
   "outputs": [],
   "source": []
  },
  {
   "cell_type": "markdown",
   "metadata": {},
   "source": [
    "## Level : Difficult"
   ]
  },
  {
   "cell_type": "markdown",
   "metadata": {},
   "source": [
    "#### 1. Write a Python program to scan a specified directory and identify the sub directories and files. \n",
    "Sample Output:\n",
    "\n",
    "a dir\n",
    "\n",
    "b dir\n",
    "\n",
    "c dir\n",
    "\n",
    "d dir\n",
    "\n",
    "p.txt file\n",
    "\n",
    "q.txt file\n",
    "\n",
    "r.docx file\n",
    "\n",
    "s.xlsx file"
   ]
  },
  {
   "cell_type": "code",
   "execution_count": null,
   "metadata": {},
   "outputs": [],
   "source": []
  },
  {
   "cell_type": "markdown",
   "metadata": {},
   "source": [
    "#### 2. Write a Python program to get the size, permissions, owner, device, created, last modified and last accessed date time of a specified path.\n",
    "\n",
    "Sample Output:\n",
    "\n",
    "Path Name (g:\\testpath\\):\n",
    "\n",
    "Size: 546\n",
    "\n",
    "Permissions: 0o100666\n",
    "\n",
    "Owner: 0\n",
    "\n",
    "Device: 4235770541\n",
    "\n",
    "Created      : Wed Jan 15 11:21:42 2020\n",
    "\n",
    "Last modified: Thu Jan 16 15:32:11 2020\n",
    "\n",
    "Last accessed: Thu Jan 16 15:32:11 2020"
   ]
  },
  {
   "cell_type": "code",
   "execution_count": null,
   "metadata": {},
   "outputs": [],
   "source": []
  },
  {
   "cell_type": "markdown",
   "metadata": {},
   "source": [
    "#### 3. Write a Python program to read first n lines of a file.\n",
    "\n",
    "Contents of text.txt\n",
    "\n",
    "What is Python language?                                                \n",
    "Python is a widely used high-level, general-purpose, interpreted, dynamic programming language.Its design philosophy emphasizes code readability, and its syntax allows programmers to express concepts in fewer lines of code than possible in\n",
    "languages such as C++ or Java. \n",
    "Python supports multiple programming paradigms, including object-oriented, imperative and functional programming or procedural styles. It features a dynamic type system and automatic memory management and has a large and comprehensive standard library.The best way we learn anything is by practice and exercise questions. We  have started this section for those (beginner to intermediate) who are \n",
    "familiar with Python.\n",
    "\n",
    "Sample Output:\n",
    "\n",
    "What is Python language?                                                \n",
    "Python is a widely used high-level, general-purpose, interpreted, dynamic programming language.Its design philosophy emphasizes code readability, and its syntax allows programmers to express concepts in fewer lines of code than possible in\n",
    "languages such as C++ or Java. "
   ]
  },
  {
   "cell_type": "code",
   "execution_count": null,
   "metadata": {},
   "outputs": [],
   "source": []
  },
  {
   "cell_type": "markdown",
   "metadata": {},
   "source": [
    "#### 4. Write a Python program to generate 26 text files named A.txt, B.txt, and so on up to Z.txt."
   ]
  },
  {
   "cell_type": "code",
   "execution_count": null,
   "metadata": {},
   "outputs": [],
   "source": []
  },
  {
   "cell_type": "markdown",
   "metadata": {},
   "source": [
    "#### 5. Write a Python program to check that a string contains only a certain set of characters (in this case a-z, A-Z and 0-9).\n",
    "\n",
    "Sample Output:\n",
    "\n",
    "True                                                                                                          \n",
    "False "
   ]
  },
  {
   "cell_type": "code",
   "execution_count": null,
   "metadata": {},
   "outputs": [],
   "source": []
  },
  {
   "cell_type": "markdown",
   "metadata": {},
   "source": [
    "#### 6. Write a Python program to find sequences of lowercase letters joined with a underscore.\n",
    "\n",
    "Input Texts:\n",
    "\n",
    "\"aab_cbbbc\"\n",
    "\n",
    "\"aab_Abbbc\"\n",
    "\n",
    "\"Aaab_abbbc\"\n",
    "\n",
    "Sample Output:\n",
    "\n",
    "Found a match! \n",
    "\n",
    "Not matched!  \n",
    "\n",
    "Not matched!"
   ]
  },
  {
   "cell_type": "code",
   "execution_count": null,
   "metadata": {},
   "outputs": [],
   "source": []
  },
  {
   "cell_type": "markdown",
   "metadata": {},
   "source": [
    "#### 7. Write a Python program to select all the Sundays of a specified year.\n",
    "Sample Output:\n",
    "\n",
    "2020-01-05                                                                                                    \n",
    "2020-01-12                                                                                                    \n",
    "2020-01-19                                                                                                    \n",
    "2020-01-26                                                                                                    \n",
    "2020-12-06                                                                                                    \n",
    "2020-12-13                                                                                                    \n",
    "2020-12-20                                                                                                    \n",
    "2020-12-27   "
   ]
  },
  {
   "cell_type": "code",
   "execution_count": null,
   "metadata": {},
   "outputs": [],
   "source": []
  },
  {
   "cell_type": "markdown",
   "metadata": {},
   "source": [
    "#### 8. Write a Python program to print a 3-column calendar for an entire year."
   ]
  },
  {
   "cell_type": "markdown",
   "metadata": {},
   "source": [
    "Sample Output:\n",
    "\n",
    "                           2022                                      \n",
    "                                                                        \n",
    "      January               February               March                \n",
    "Su Mo Tu We Th Fr Sa  Su Mo Tu We Th Fr Sa  Su Mo Tu We Th Fr Sa        \n",
    "                   1         1  2  3  4  5         1  2  3  4  5        \n",
    " 2  3  4  5  6  7  8   6  7  8  9 10 11 12   6  7  8  9 10 11 12        \n",
    " 9 10 11 12 13 14 15  13 14 15 16 17 18 19  13 14 15 16 17 18 19        \n",
    "16 17 18 19 20 21 22  20 21 22 23 24 25 26  20 21 22 23 24 25 26        \n",
    "23 24 25 26 27 28 29  27 28                 27 28 29 30 31              \n",
    "30 31                                                                   \n",
    "                                                                        \n",
    "       April                  May                   June                \n",
    "Su Mo Tu We Th Fr Sa  Su Mo Tu We Th Fr Sa  Su Mo Tu We Th Fr Sa        \n",
    "                1  2   1  2  3  4  5  6  7            1  2  3  4        \n",
    " 3  4  5  6  7  8  9   8  9 10 11 12 13 14   5  6  7  8  9 10 11        \n",
    "10 11 12 13 14 15 16  15 16 17 18 19 20 21  12 13 14 15 16 17 18        \n",
    "17 18 19 20 21 22 23  22 23 24 25 26 27 28  19 20 21 22 23 24 25        \n",
    "24 25 26 27 28 29 30  29 30 31              26 27 28 29 30              \n",
    "                                                                   \n",
    "        July                 August              September              \n",
    "Su Mo Tu We Th Fr Sa  Su Mo Tu We Th Fr Sa  Su Mo Tu We Th Fr Sa        \n",
    "                1  2      1  2  3  4  5  6               1  2  3        \n",
    " 3  4  5  6  7  8  9   7  8  9 10 11 12 13   4  5  6  7  8  9 10        \n",
    "10 11 12 13 14 15 16  14 15 16 17 18 19 20  11 12 13 14 15 16 17        \n",
    "17 18 19 20 21 22 23  21 22 23 24 25 26 27  18 19 20 21 22 23 24        \n",
    "24 25 26 27 28 29 30  28 29 30 31           25 26 27 28 29 30           \n",
    "31                                                                      \n",
    "                                                                        \n",
    "      October               November              December              \n",
    "Su Mo Tu We Th Fr Sa  Su Mo Tu We Th Fr Sa  Su Mo Tu We Th Fr Sa        \n",
    "                   1         1  2  3  4  5               1  2  3        \n",
    " 2  3  4  5  6  7  8   6  7  8  9 10 11 12   4  5  6  7  8  9 10        \n",
    " 9 10 11 12 13 14 15  13 14 15 16 17 18 19  11 12 13 14 15 16 17        \n",
    "16 17 18 19 20 21 22  20 21 22 23 24 25 26  18 19 20 21 22 23 24        \n",
    "23 24 25 26 27 28 29  27 28 29 30           25 26 27 28 29 30 31        \n",
    "30 31                "
   ]
  },
  {
   "cell_type": "code",
   "execution_count": null,
   "metadata": {},
   "outputs": [],
   "source": []
  },
  {
   "cell_type": "markdown",
   "metadata": {},
   "source": [
    "#### 9. Create Dataframe using a standard Python Library"
   ]
  },
  {
   "cell_type": "markdown",
   "metadata": {},
   "source": [
    "Sample Output:\n",
    "\n",
    "    X   Y   Z                                                          \n",
    "0  78  84  86                                                          \n",
    "1  85  94  97                                                          \n",
    "2  96  89  96                                                          \n",
    "3  80  83  72                                                          \n",
    "4  86  86  83    "
   ]
  },
  {
   "cell_type": "code",
   "execution_count": null,
   "metadata": {},
   "outputs": [],
   "source": []
  },
  {
   "cell_type": "markdown",
   "metadata": {},
   "source": [
    "#### 10. Write a Python program to convert JSON data to Python object.\n",
    "Sample\n",
    "\n",
    "JSON data:\n",
    "\n",
    "{'Name': 'David', 'Class': 'I', 'Age': 6}\n",
    "\n",
    "Name:  David\n",
    "\n",
    "Class:  I\n",
    "\n",
    "Age:  6"
   ]
  },
  {
   "cell_type": "code",
   "execution_count": null,
   "metadata": {},
   "outputs": [],
   "source": []
  }
 ],
 "metadata": {
  "kernelspec": {
   "display_name": "Python 3",
   "language": "python",
   "name": "python3"
  },
  "language_info": {
   "codemirror_mode": {
    "name": "ipython",
    "version": 3
   },
   "file_extension": ".py",
   "mimetype": "text/x-python",
   "name": "python",
   "nbconvert_exporter": "python",
   "pygments_lexer": "ipython3",
   "version": "3.7.9"
  }
 },
 "nbformat": 4,
 "nbformat_minor": 4
}
