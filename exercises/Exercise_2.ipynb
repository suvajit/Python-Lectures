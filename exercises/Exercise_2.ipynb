{
 "cells": [
  {
   "cell_type": "markdown",
   "metadata": {},
   "source": [
    "# Control Flow & Logic "
   ]
  },
  {
   "cell_type": "markdown",
   "metadata": {},
   "source": [
    "## Practice exercise on Topics:\n",
    "\n",
    "### - If-elif-else\n",
    "\n",
    "### - While Loop\n",
    "\n",
    "### - For Loop\n",
    "\n",
    "### - Break and Continue statements\n",
    "\n",
    "### - Iteration and Pass\n",
    "\n",
    "### - Avoiding infinite loop"
   ]
  },
  {
   "cell_type": "markdown",
   "metadata": {},
   "source": [
    "## Level : Easy "
   ]
  },
  {
   "cell_type": "markdown",
   "metadata": {},
   "source": [
    "#### 1. Write Python program with the help of if-else statement\n",
    "\n",
    "Print \"This is the if block\" when the value of the variable x == True\n",
    "\n",
    "Print \"This is the else block\" when the value of the variable x == False"
   ]
  },
  {
   "cell_type": "code",
   "execution_count": null,
   "metadata": {},
   "outputs": [],
   "source": []
  },
  {
   "cell_type": "markdown",
   "metadata": {},
   "source": [
    "#### 2. Take the values of length and breadth of a rectangle from the user and check if it is a square or not.\n",
    "\n",
    "* Case 1\n",
    "\n",
    "Input :\n",
    "\n",
    "length = 34\n",
    "\n",
    "breadth = 34\n",
    "\n",
    "Output: \n",
    "    It is a square\n",
    "    \n",
    "* Case 2\n",
    "\n",
    "Input:\n",
    "\n",
    "length = 24\n",
    "\n",
    "breadth = 51\n",
    "\n",
    "Output:\n",
    "    It is a rectangle"
   ]
  },
  {
   "cell_type": "code",
   "execution_count": null,
   "metadata": {},
   "outputs": [],
   "source": []
  },
  {
   "cell_type": "markdown",
   "metadata": {},
   "source": [
    "#### 3. Print First 10 natural numbers using while loop\n",
    "\n",
    "Expected output:\n",
    "\n",
    "\n",
    "0\n",
    "1\n",
    "2\n",
    "3\n",
    "4\n",
    "5\n",
    "6\n",
    "7\n",
    "8\n",
    "9\n",
    "10"
   ]
  },
  {
   "cell_type": "markdown",
   "metadata": {},
   "source": [
    "#### 4. Given a list iterate it and display numbers which are divisible by 5 and if you find number greater than 150 stop the loop iteration\n",
    "\n",
    "list1 = [12, 15, 32, 42, 55, 75, 122, 132, 150, 180, 200]\n",
    "\n",
    "Expected output:\n",
    "\n",
    "15\n",
    "\n",
    "55\n",
    "\n",
    "75\n",
    "\n",
    "150"
   ]
  },
  {
   "cell_type": "code",
   "execution_count": null,
   "metadata": {},
   "outputs": [],
   "source": []
  },
  {
   "cell_type": "markdown",
   "metadata": {},
   "source": [
    "#### 5. Write a Python program that prints all the numbers from 0 to 6 except 3 and 6.\n",
    "\n",
    "Note : Use 'continue' statement.\n",
    "\n",
    "Expected Output : 0 1 2 4 5"
   ]
  },
  {
   "cell_type": "code",
   "execution_count": null,
   "metadata": {},
   "outputs": [],
   "source": []
  },
  {
   "cell_type": "markdown",
   "metadata": {},
   "source": [
    "#### 6. Find the output of the given program by filling in the missing blanks with appropriate keyword\n",
    "\n",
    "a = 1\n",
    "\n",
    "_______ a <= 3:\n",
    "\n",
    "    b = int (input (\"enter a no: \"))\n",
    "\n",
    "    if b == 0:\n",
    "\n",
    "        print (\"exiting loop with break command, 'else' is not executed\")\n",
    "\n",
    "        _____________\n",
    "\n",
    "        a+=1\n",
    "\n",
    "    else:\n",
    "\n",
    "        print (\"loop exited without executing break command\")\n"
   ]
  },
  {
   "cell_type": "code",
   "execution_count": null,
   "metadata": {},
   "outputs": [],
   "source": []
  },
  {
   "cell_type": "markdown",
   "metadata": {},
   "source": [
    "#### 7. What condition would make the following code an infinite loop?\n",
    "\n",
    "while   _____________:\n",
    "\n",
    "  print(\"INFINITE\")"
   ]
  },
  {
   "cell_type": "code",
   "execution_count": null,
   "metadata": {},
   "outputs": [],
   "source": []
  },
  {
   "cell_type": "markdown",
   "metadata": {},
   "source": [
    "#### 8. Complete the given program to break out of the loop only when x is 3 else continue looping.\n",
    "\n",
    "x = 0\n",
    "\n",
    "_____________ x < 10:\n",
    "    \n",
    "    \n",
    "    x+=1\n",
    "    \n",
    "    if x==3:\n",
    "        \n",
    "        #Write your code here\n",
    "        \n",
    "    else:\n",
    "        \n",
    "        #Write your code here"
   ]
  },
  {
   "cell_type": "code",
   "execution_count": null,
   "metadata": {},
   "outputs": [],
   "source": []
  },
  {
   "cell_type": "markdown",
   "metadata": {},
   "source": [
    "#### 9. Write a Python program to find the factorial of a number.\n",
    "\n",
    "Input : 4\n",
    "\n",
    "Output : 24\n",
    "\n"
   ]
  },
  {
   "cell_type": "code",
   "execution_count": null,
   "metadata": {},
   "outputs": [],
   "source": []
  },
  {
   "cell_type": "markdown",
   "metadata": {},
   "source": [
    "#### 10. What is the output of this program?\n",
    "\n",
    "Hint: pass is a keyword\n",
    "\n",
    "x = 0\n",
    "\n",
    "while x<5:\n",
    "\n",
    "    pass"
   ]
  },
  {
   "cell_type": "code",
   "execution_count": null,
   "metadata": {},
   "outputs": [],
   "source": []
  },
  {
   "cell_type": "markdown",
   "metadata": {},
   "source": [
    "## Level : Moderate"
   ]
  },
  {
   "cell_type": "markdown",
   "metadata": {},
   "source": [
    "#### 1. A company decided to give bonus of 5% to employee if his/her year of service is more than 5 years. Ask the user for their salary and year of service and print the net bonus amount.\n",
    "\n",
    "Hint: Bonus amount is calculated as 0.05* salary\n",
    "\n",
    "Input:\n",
    "\n",
    "Suppose salary = 23000\n",
    " if year  = 6\n",
    "\n",
    "Output: You get a bonus of 1150.0 \n",
    "\n",
    "if year = 4\n",
    "\n",
    "Output : Sorry, no bonus for you this year\n"
   ]
  },
  {
   "cell_type": "code",
   "execution_count": null,
   "metadata": {},
   "outputs": [],
   "source": []
  },
  {
   "cell_type": "markdown",
   "metadata": {},
   "source": [
    "#### 2. Write a program to print the grade of a student who has scored 65 if a school follows the given rules for grading system.\n",
    "\n",
    "Below 25 = F\n",
    "\n",
    "25 to 45 = E\n",
    "\n",
    "45 to 50 = D\n",
    "\n",
    "50 to 60  C\n",
    "\n",
    "60 to 80 = B\n",
    "\n",
    "Above 80 = A\n",
    "\n",
    "Write a program to print the grade of a student who has scored 65"
   ]
  },
  {
   "cell_type": "code",
   "execution_count": null,
   "metadata": {},
   "outputs": [],
   "source": []
  },
  {
   "cell_type": "markdown",
   "metadata": {},
   "source": [
    "#### 3. Brady and Lola want to go for a football match. Brady is 25 years old and Lola is 10 years old. Who can obtain the tickets to the football match and what will be the price of a ticket. \n",
    "\n",
    "The ticket counter has the following criteria. \n",
    "\n",
    "* Only people above 11 years are eligible for a ticket.\n",
    "\n",
    "* If the age is between 20 and 40, the ticket price is $12\n",
    "\n",
    "* If the age is between 40 and 60, the ticket price is $20\n",
    "\n",
    "Hint: Use nested if-else\n"
   ]
  },
  {
   "cell_type": "code",
   "execution_count": null,
   "metadata": {},
   "outputs": [],
   "source": []
  },
  {
   "cell_type": "markdown",
   "metadata": {},
   "source": [
    "#### 4. Print the following pattern\n",
    "\n",
    "1 \n",
    "\n",
    "1 2 \n",
    "\n",
    "1 2 3 \n",
    "\n",
    "1 2 3 4 \n",
    "\n",
    "1 2 3 4 5"
   ]
  },
  {
   "cell_type": "code",
   "execution_count": null,
   "metadata": {},
   "outputs": [],
   "source": []
  },
  {
   "cell_type": "markdown",
   "metadata": {},
   "source": [
    "#### 5. Display Fibonacci series up to 10 terms\n",
    "\n",
    "Expected output:\n",
    "\n",
    "Fibonacci sequence:\n",
    "\n",
    "0  1  1  2  3  5  8  13  21  34"
   ]
  },
  {
   "cell_type": "code",
   "execution_count": null,
   "metadata": {},
   "outputs": [],
   "source": []
  },
  {
   "cell_type": "markdown",
   "metadata": {},
   "source": [
    "#### 6. Write a Python program which iterates the integers from 1 to 50. For multiples of three print \"Fizz\" instead of the number and for the multiples of five print \"Buzz\". For numbers which are multiples of both three and five print \"FizzBuzz\".\n",
    "\n",
    "Hint: This problem makes use of the continue statement\n",
    "\n",
    "Sample Output :\n",
    "\n",
    "fizzbuzz\n",
    "\n",
    "1\n",
    "\n",
    "2\n",
    "\n",
    "fizz\n",
    "\n",
    "4\n",
    "\n",
    "buzz"
   ]
  },
  {
   "cell_type": "code",
   "execution_count": null,
   "metadata": {},
   "outputs": [],
   "source": []
  },
  {
   "cell_type": "markdown",
   "metadata": {},
   "source": [
    "#### 7. Write a program to find the Greatest Common Divisor (GCD) or HCF of given two numbers using while loop.\n",
    "\n",
    "Example\n",
    "\n",
    "x = 10\n",
    "\n",
    "y = 20\n",
    "\n",
    "Output: The GCD is 10\n",
    "\n"
   ]
  },
  {
   "cell_type": "code",
   "execution_count": null,
   "metadata": {},
   "outputs": [],
   "source": []
  },
  {
   "cell_type": "markdown",
   "metadata": {},
   "source": [
    "#### 8. Write a Python program to solve the following problem\n",
    "\n",
    "When squirrels get together for a party, they like to have cigars. A squirrel party is successful when the number of cigars is between 40 and 60, inclusive. Unless it is the weekend, in which case there is no upper bound on the number of cigars. Return True if the party with the given values is successful, or False otherwise.\n",
    "\n",
    "\n",
    "cigar_party(30, False) → False\n",
    "\n",
    "cigar_party(50, False) → True\n",
    "\n",
    "cigar_party(70, True) → True"
   ]
  },
  {
   "cell_type": "code",
   "execution_count": null,
   "metadata": {},
   "outputs": [],
   "source": []
  },
  {
   "cell_type": "markdown",
   "metadata": {},
   "source": [
    "#### 9. Write a Python function that checks whether a passed string is palindrome or not.\n",
    "\n",
    "Note: A palindrome is a word, phrase, or sequence that reads the same backward as forward, e.g., madam or nurses run.\n",
    "\n",
    "Input: 'Malayalam'\n",
    "\n",
    "Output: Palindrome!"
   ]
  },
  {
   "cell_type": "code",
   "execution_count": null,
   "metadata": {},
   "outputs": [],
   "source": []
  },
  {
   "cell_type": "markdown",
   "metadata": {},
   "source": [
    "#### 10.  Write a Python function to check whether a number is perfect or not. \n",
    "\n",
    "Example : The first perfect number is 6, because 1, 2, and 3 are its proper positive divisors, and 1 + 2 + 3 = 6.\n",
    "\n",
    "Equivalently, the number 6 is equal to half the sum of all its positive divisors: ( 1 + 2 + 3 + 6 ) / 2 = 6. The next perfect number is 28 = 1 + 2 + 4 + 7 + 14.\n",
    "\n",
    "This is followed by the perfect numbers 496 and 8128."
   ]
  },
  {
   "cell_type": "code",
   "execution_count": null,
   "metadata": {},
   "outputs": [],
   "source": []
  },
  {
   "cell_type": "markdown",
   "metadata": {},
   "source": [
    "## Level : Difficult"
   ]
  },
  {
   "cell_type": "markdown",
   "metadata": {},
   "source": [
    "#### 1.Given a string, return the count of the number of times that a substring length 2 appears in the string and also as the last 2 chars of the string, so \"hixxxhi\" yields 1 (we won't count the end substring).\n",
    "\n",
    "Example:\n",
    "\n",
    "last2('hixxhi') → 1\n",
    "\n",
    "last2('xaxxaxaxx') → 1\n",
    "\n",
    "last2('axxxaaxx') → 2\n",
    "  "
   ]
  },
  {
   "cell_type": "code",
   "execution_count": null,
   "metadata": {},
   "outputs": [],
   "source": []
  },
  {
   "cell_type": "markdown",
   "metadata": {},
   "source": [
    "#### 2. With the help of conditioning and logical operators, solve the given problem.\n",
    "\n",
    "You are driving a little too fast, and a police officer stops you. Write code to compute the result, encoded as an int value:  0=no ticket,  1=small ticket, 2=big ticket. If speed is 60 or less, the result is 0. If speed is between 61 and 80 inclusive, the result is 1.  If speed is 81 or more, the result is 2. Unless it is your birthday --  on that day,  your speed can be 5 higher in all cases.\n",
    "\n",
    "\n",
    "caught_speeding(60, False) → 0\n",
    "\n",
    "caught_speeding(65, False) → 1\n",
    "\n",
    "caught_speeding(65, True) → 0"
   ]
  },
  {
   "cell_type": "code",
   "execution_count": null,
   "metadata": {},
   "outputs": [],
   "source": []
  },
  {
   "cell_type": "markdown",
   "metadata": {},
   "source": [
    "#### 3. Find the sum of the series 2 +22 + 222 + 2222 + .. n terms\n",
    "\n",
    "Given:\n",
    "\n",
    "number_of_terms = 5\n",
    "\n",
    "So series will become 2 + 22 + 222 + 2222 + 22222\n",
    "\n",
    "Expected output:\n",
    "\n",
    "24690"
   ]
  },
  {
   "cell_type": "code",
   "execution_count": null,
   "metadata": {},
   "outputs": [],
   "source": []
  },
  {
   "cell_type": "markdown",
   "metadata": {},
   "source": [
    "#### 4. Python program to display all the prime numbers within a range\n",
    "\n",
    "Note: A Prime Number is a whole number that cannot be made by multiplying other whole numbers\n",
    "\n",
    "Example:\n",
    "\n",
    "6 is not a Prime Number because it can be made by 2×3 = 6\n",
    "\n",
    "37 is a Prime Number because no other whole numbers multiply together to make it.\n",
    "\n",
    "Given:\n",
    "\n",
    "start = 25\n",
    "end = 50\n",
    "Expected output:\n",
    "\n",
    "Prime numbers between 25 and 50 are:\n",
    "    \n",
    "29\n",
    "\n",
    "31\n",
    "\n",
    "37\n",
    "\n",
    "41\n",
    "\n",
    "43\n",
    "\n",
    "47"
   ]
  },
  {
   "cell_type": "code",
   "execution_count": null,
   "metadata": {},
   "outputs": [],
   "source": []
  },
  {
   "cell_type": "markdown",
   "metadata": {},
   "source": [
    "#### 5. Write a program to print the following triangle using loops\n",
    "1\n",
    "\n",
    "121\n",
    "\n",
    "12321\n",
    "\n",
    "1234321"
   ]
  },
  {
   "cell_type": "code",
   "execution_count": null,
   "metadata": {},
   "outputs": [],
   "source": []
  },
  {
   "cell_type": "markdown",
   "metadata": {},
   "source": [
    "#### 6. Write a program that generates a random number (0-10) and ask you to guess it. You have three asserts.\n",
    "\n",
    "Define a random_number with randit between 0-10.\n",
    "\n",
    "Initialize guesses_left to 3.\n",
    "\n",
    "Use a while loop to let the user keep guessing so long as guesses_left is greater than zero.\n",
    "\n",
    "Ask the user for their guess, just like the second example above.\n",
    "\n",
    "If they guess correctly, print 'You win!' and break. Decrement guesses_left by one.\n",
    "\n",
    "Use an else: case after your while loop to print:You lose."
   ]
  },
  {
   "cell_type": "code",
   "execution_count": null,
   "metadata": {},
   "outputs": [],
   "source": []
  },
  {
   "cell_type": "markdown",
   "metadata": {},
   "source": [
    "#### 7. Make a two-player Rock-Paper-Scissors game.\n",
    "\n",
    "Hint: Ask for player plays (using input), compare them, print out a message of congratulations to the winner, and ask if the players want to start a new game\n",
    "\n",
    "Remember the rules:\n",
    "\n",
    "* Rock beats scissors\n",
    "\n",
    "* Scissors beats paper\n",
    "\n",
    "* Paper beats rock"
   ]
  },
  {
   "cell_type": "code",
   "execution_count": null,
   "metadata": {},
   "outputs": [],
   "source": []
  },
  {
   "cell_type": "markdown",
   "metadata": {},
   "source": [
    "#### 8. Write a Python program which takes two digits m (row) and n (column) as input and generates a two-dimensional array. The element value in the i-th row and j-th column of the array should be i*j. \n",
    "\n",
    "Note :\n",
    "\n",
    "i = 0,1.., m-1\n",
    "\n",
    "j = 0,1, n-1.\n",
    "\n",
    "Test Data : Rows = 3, Columns = 4\n",
    "\n",
    "Expected Result : [[0, 0, 0, 0], [0, 1, 2, 3], [0, 2, 4, 6]]"
   ]
  },
  {
   "cell_type": "code",
   "execution_count": null,
   "metadata": {},
   "outputs": [],
   "source": []
  },
  {
   "cell_type": "markdown",
   "metadata": {},
   "source": [
    "#### 9. Write a Python program that accepts a sequence of lines (blank line to terminate) as input and prints the lines as output (all characters in lower case). Use While loop.\n",
    "\n",
    "Input : hi its me\n",
    "\n",
    "Output: HI ITS ME\n",
    "\n"
   ]
  },
  {
   "cell_type": "code",
   "execution_count": null,
   "metadata": {},
   "outputs": [],
   "source": []
  },
  {
   "cell_type": "markdown",
   "metadata": {},
   "source": [
    "#### 10. Write a Python program to check the validity of a password (input from users).\n",
    "\n",
    "Validation :\n",
    "\n",
    "At least 1 letter between [a-z] and 1 letter between [A-Z].\n",
    "\n",
    "At least 1 number between [0-9].\n",
    "\n",
    "At least 1 character from [$#@].\n",
    "                           \n",
    "Minimum length 6 characters.\n",
    "                           \n",
    "Maximum length 16 characters.\n",
    "                           \n"
   ]
  },
  {
   "cell_type": "code",
   "execution_count": null,
   "metadata": {},
   "outputs": [],
   "source": []
  }
 ],
 "metadata": {
  "kernelspec": {
   "display_name": "Python 3",
   "language": "python",
   "name": "python3"
  },
  "language_info": {
   "codemirror_mode": {
    "name": "ipython",
    "version": 3
   },
   "file_extension": ".py",
   "mimetype": "text/x-python",
   "name": "python",
   "nbconvert_exporter": "python",
   "pygments_lexer": "ipython3",
   "version": "3.7.9"
  }
 },
 "nbformat": 4,
 "nbformat_minor": 4
}
