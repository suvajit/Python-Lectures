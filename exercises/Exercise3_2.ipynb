{
 "cells": [
  {
   "cell_type": "markdown",
   "metadata": {},
   "source": [
    "# Exercise 3 - Part II"
   ]
  },
  {
   "cell_type": "markdown",
   "metadata": {},
   "source": [
    "## Practice exercise on Topics :\n",
    "\n",
    "### - Strings\n",
    "\n",
    "### - Dictionaries "
   ]
  },
  {
   "cell_type": "markdown",
   "metadata": {},
   "source": [
    "## Level : Easy"
   ]
  },
  {
   "cell_type": "markdown",
   "metadata": {},
   "source": [
    "#### 1. Reverse the given string by writing a single line of code\n",
    "\n",
    "'MyNameIsJaanvi'\n",
    "\n",
    "Output : 'ivnaaJsIemaNyM'"
   ]
  },
  {
   "cell_type": "code",
   "execution_count": null,
   "metadata": {},
   "outputs": [],
   "source": [
    "\n"
   ]
  },
  {
   "cell_type": "markdown",
   "metadata": {},
   "source": [
    "#### 2. Extract the word 'lovely' from the given string in a single line of code\n",
    "\n",
    "'The winter is so lovely. I wish it stayed here for longer.'"
   ]
  },
  {
   "cell_type": "code",
   "execution_count": null,
   "metadata": {},
   "outputs": [],
   "source": []
  },
  {
   "cell_type": "markdown",
   "metadata": {},
   "source": [
    "#### 3. What is the output of this code?\n",
    "\n",
    "spam = \"7\"\n",
    "\n",
    "spam = spam + \"0\"\n",
    "\n",
    "eggs = int(spam) + 3\n",
    "\n",
    "print(float(eggs))"
   ]
  },
  {
   "cell_type": "code",
   "execution_count": null,
   "metadata": {},
   "outputs": [],
   "source": []
  },
  {
   "cell_type": "markdown",
   "metadata": {},
   "source": [
    "#### 4. Use the appropriate function to execute the program enclosed within a string and display the output of the program.\n",
    "\n",
    "program = 'a = 5\\nb=10\\nprint(\"Sum =\", a+b)'\n",
    "\n",
    "_______(program)\n",
    "\n"
   ]
  },
  {
   "cell_type": "code",
   "execution_count": null,
   "metadata": {},
   "outputs": [],
   "source": []
  },
  {
   "cell_type": "markdown",
   "metadata": {},
   "source": [
    "#### 5. Write a program to receive a list of sentences and return a new list after removing all whitespaces in every sentence of the list.\n",
    "\n",
    "Example list1 = [“My name is Shankar”, “I love Python”]\n",
    "\n",
    "Output [“MynameisShankar”, “IlovePython”]\n",
    "\n",
    "Using built-in functions to remove whitespaces.\n"
   ]
  },
  {
   "cell_type": "code",
   "execution_count": null,
   "metadata": {},
   "outputs": [],
   "source": []
  },
  {
   "cell_type": "markdown",
   "metadata": {},
   "source": [
    "#### 6. Create a simple dictionary having Names of students as the key and their age as the value and store it in the variable called age\n",
    "\n",
    "Kavitha 19 \n",
    "\n",
    "Aksar 20\n",
    "\n",
    "Seema 21"
   ]
  },
  {
   "cell_type": "code",
   "execution_count": null,
   "metadata": {},
   "outputs": [],
   "source": []
  },
  {
   "cell_type": "markdown",
   "metadata": {},
   "source": [
    "#### 7. From the given dictionary obtain the answer to the question by filling in the blanks with appropriate code : When was Plato born?\n",
    "\n",
    "dict={\"name\": \"Plato\", \"country\": \"Ancient Greece\", \"born\": -427, \"teacher\": \"Socrates\", \"student\": \"Aristotle\"}\n",
    "\n",
    "#Type your answer below.\n",
    "\n",
    "answer_1= ________________\n",
    "\n",
    "____________(answer_1)\n"
   ]
  },
  {
   "cell_type": "code",
   "execution_count": null,
   "metadata": {},
   "outputs": [],
   "source": []
  },
  {
   "cell_type": "markdown",
   "metadata": {},
   "source": [
    "#### 8. How would you change the year of Plato's birth to -428 in the above problem?\n",
    "\n"
   ]
  },
  {
   "cell_type": "code",
   "execution_count": null,
   "metadata": {},
   "outputs": [],
   "source": []
  },
  {
   "cell_type": "markdown",
   "metadata": {},
   "source": [
    "#### 9. Add another key called 'work' having the value : [\"Apology\", \"Phaedo\", \"Republic\", \"Symposium\"] to the existing dictionary and print the updated dictionary\n",
    "\n",
    "dict={\"name\": \"Plato\", \"country\": \"Ancient Greece\", \"born\": -427, \"teacher\": \"Socrates\", \"student\": \"Aristotle\"}\n",
    "\n",
    "#Type your answer below.\n",
    "\n"
   ]
  },
  {
   "cell_type": "code",
   "execution_count": null,
   "metadata": {},
   "outputs": [],
   "source": []
  },
  {
   "cell_type": "markdown",
   "metadata": {},
   "source": [
    "#### 10. Below are the two lists convert it into the dictionary\n",
    "\n",
    "keys = ['Ten', 'Twenty', 'Thirty']\n",
    "\n",
    "values = [10, 20, 30]\n",
    "\n",
    "Expected output:\n",
    "\n",
    "{'Ten': 10, 'Twenty': 20, 'Thirty': 30}"
   ]
  },
  {
   "cell_type": "code",
   "execution_count": null,
   "metadata": {},
   "outputs": [],
   "source": []
  },
  {
   "cell_type": "markdown",
   "metadata": {},
   "source": [
    "## Level : Moderate"
   ]
  },
  {
   "cell_type": "markdown",
   "metadata": {},
   "source": [
    "#### 1. Count all lower case, upper case, digits, and special symbols from a given string.\n",
    "\n",
    "Hint: Make use of string functions. \n",
    "\n",
    "Example: \n",
    "\n",
    "str1 = \"P@#yt26at^&i5hon\"\n",
    "\n",
    "Output :\n",
    "\n",
    "Chars = 8\n",
    "\n",
    "Digits = 3\n",
    "\n",
    "Symbol = 4"
   ]
  },
  {
   "cell_type": "code",
   "execution_count": null,
   "metadata": {},
   "outputs": [],
   "source": []
  },
  {
   "cell_type": "markdown",
   "metadata": {},
   "source": [
    "#### 2. Find all occurrences of “Canada” in given string ignoring the case\n",
    "\n",
    "country_string = \"Welome to Canada! Canada is my Best Friends Contry\"\n",
    "\n",
    "Output: The count of 'Canada' is : 2"
   ]
  },
  {
   "cell_type": "code",
   "execution_count": null,
   "metadata": {},
   "outputs": [],
   "source": []
  },
  {
   "cell_type": "markdown",
   "metadata": {},
   "source": [
    "#### 3. Find the last position of a substring “Jason” in a given string. \n",
    "i.e Where in the string is the last occurrence of the substring “Jason”?:\n",
    "\n",
    "Hint: make use of string functions\n",
    "\n",
    "\n",
    "\n",
    "sentence_str = \"Jason is a data scientist who knows Python. Jason works at google.\"\n",
    "\n",
    "Output:\n",
    "\n",
    "Last occurrence of Jason starts at index 44"
   ]
  },
  {
   "cell_type": "code",
   "execution_count": null,
   "metadata": {},
   "outputs": [],
   "source": []
  },
  {
   "cell_type": "markdown",
   "metadata": {},
   "source": [
    "#### 4. Write a program that takes your full name as input and displays the abbreviations of the first and middle name. Last name should be displayed as it is. \n",
    "\n",
    "Example: Assume a student named Neil Nitin Mukesh\n",
    "\n",
    "Output N.N.Mukesh"
   ]
  },
  {
   "cell_type": "code",
   "execution_count": null,
   "metadata": {},
   "outputs": [],
   "source": []
  },
  {
   "cell_type": "markdown",
   "metadata": {},
   "source": [
    "#### 5. Given an input string, count occurrences of all characters within a string and return it as a dictionary\n",
    "\n",
    "fruit = \"Orange\"\n",
    "\n",
    "Output\n",
    "\n",
    "{'O': 1, 'r': 1, 'a': 1, 'n': 1, 'g': 1, 'e': 1}"
   ]
  },
  {
   "cell_type": "code",
   "execution_count": null,
   "metadata": {},
   "outputs": [],
   "source": []
  },
  {
   "cell_type": "markdown",
   "metadata": {},
   "source": [
    "#### 6. How would you merge the two different dictionaries?\n",
    "\n",
    "Hint: Use functions that can be used on dictionaries.\n",
    "\n",
    "dict1 = {'Ten': 10, 'Twenty': 20, 'Thirty': 30}\n",
    "\n",
    "dict2 = {'Thirty': 30, 'Fourty': 40, 'Fifty': 50}\n",
    "\n",
    "dict3 = dict1.___________()\n",
    "\n",
    "dict3.__________(dict2)\n",
    "\n",
    "print(dict3)"
   ]
  },
  {
   "cell_type": "code",
   "execution_count": null,
   "metadata": {},
   "outputs": [],
   "source": []
  },
  {
   "cell_type": "markdown",
   "metadata": {},
   "source": [
    "#### 7. Get the key corresponding to the minimum value from the following dictionary\n",
    "\n",
    "sampleDict = {\n",
    "  'Physics': 82,\n",
    "  'Math': 65,\n",
    "  'history': 75\n",
    "}\n",
    "\n",
    "Expected output:\n",
    "\n",
    "Math"
   ]
  },
  {
   "cell_type": "code",
   "execution_count": null,
   "metadata": {},
   "outputs": [],
   "source": []
  },
  {
   "cell_type": "markdown",
   "metadata": {},
   "source": [
    "#### 8. Create a new dictionary by extracting the following keys from a given dictionary\n",
    "\n",
    "Hint: You can use dictionary comprehensions just like list comprehensions\n",
    "    \n",
    "\n",
    "\n",
    "sample_keyvalue = {\"name\": \"Donna\",\"age\":45,\"salary\": 800000,\"city\": \"New York\"]}\n",
    "\n",
    "Keys to extract: \n",
    "\n",
    "keys = [\"name\", \"salary\"]\n",
    "\n",
    "Expected output:\n",
    "\n",
    "{'name': 'Donna', 'salary': 800000}"
   ]
  },
  {
   "cell_type": "code",
   "execution_count": null,
   "metadata": {},
   "outputs": [],
   "source": []
  },
  {
   "cell_type": "markdown",
   "metadata": {},
   "source": [
    "#### 9. Write a Python program to filter a dictionary based on values. In this case, the key-value pairs where Marks greater than or equal to 170\n",
    "\n",
    "Input Dictionary:\n",
    "    \n",
    "{'Benson': 175, 'Jason': 180, 'Clarke': 165, 'Pierre': 190}\n",
    "\n",
    "\n",
    "    \n",
    "Output: {'Benson': 175, 'Jason': 180, 'Pierre': 190}"
   ]
  },
  {
   "cell_type": "code",
   "execution_count": null,
   "metadata": {},
   "outputs": [],
   "source": []
  },
  {
   "cell_type": "markdown",
   "metadata": {},
   "source": [
    "#### 10.Write a Python program to match key values in two dictionaries. \n",
    "\n",
    "Input dictionary: {'Sally': 43, 'Mukund': 33, 'Jasmine': 24}, {'Sally': 43, 'Hiren': 29}\n",
    "    \n",
    "Expected output: Sally: 43"
   ]
  },
  {
   "cell_type": "code",
   "execution_count": null,
   "metadata": {},
   "outputs": [],
   "source": []
  },
  {
   "cell_type": "markdown",
   "metadata": {},
   "source": [
    "## Level : Difficult "
   ]
  },
  {
   "cell_type": "markdown",
   "metadata": {},
   "source": [
    "#### 1. Given a string of odd length greater 7, return a string made of the middle three chars of a given String.\n",
    "\n",
    "Example: \n",
    "\n",
    "str1 = \"JaSonay\"\n",
    "\n",
    "Output : son"
   ]
  },
  {
   "cell_type": "code",
   "execution_count": null,
   "metadata": {},
   "outputs": [],
   "source": []
  },
  {
   "cell_type": "markdown",
   "metadata": {},
   "source": [
    "#### 2.  Given 2 strings, s1 and s2, create a new string by appending s2 in the middle of s1, where the number of characters in s1 is even.\n",
    "\n",
    "Example: \n",
    "\n",
    "s1 = \"CoOl\"\n",
    "\n",
    "s2 = \"Python\"\n",
    "\n",
    "Output: CoPythonOl"
   ]
  },
  {
   "cell_type": "code",
   "execution_count": null,
   "metadata": {},
   "outputs": [],
   "source": []
  },
  {
   "cell_type": "markdown",
   "metadata": {},
   "source": [
    "#### 3. Arrange string characters such that lowercase letters should come first\n",
    "\n",
    "Example:\n",
    "\n",
    "str1 = pyTHoN\n",
    "\n",
    "Output : pyoTHN"
   ]
  },
  {
   "cell_type": "code",
   "execution_count": null,
   "metadata": {},
   "outputs": [],
   "source": []
  },
  {
   "cell_type": "markdown",
   "metadata": {},
   "source": [
    "#### 4. Given a string, return the sum and average of the digits that appear in the string, ignoring all other characters.\n",
    "\n",
    "Example\n",
    "\n",
    "Input:\n",
    "\n",
    "str1 = \"Computer = 65 Science = 68 Math = 83 Geography = 78\"\n",
    "\n",
    "Output \n",
    "\n",
    "sum is 294\n",
    "\n",
    "average is 73.5"
   ]
  },
  {
   "cell_type": "code",
   "execution_count": null,
   "metadata": {},
   "outputs": [],
   "source": []
  },
  {
   "cell_type": "markdown",
   "metadata": {},
   "source": [
    "#### 5. Write a program to make a new string with all the consonents deleted from the string \"Hello, have a good day\"\n",
    "\n",
    "Output: eoaeaooa\n"
   ]
  },
  {
   "cell_type": "code",
   "execution_count": null,
   "metadata": {},
   "outputs": [],
   "source": []
  },
  {
   "cell_type": "markdown",
   "metadata": {},
   "source": [
    "#### 6. Write a Python script to generate and print a dictionary that contains a number (between 1 and n) in the form (x, x*x). \n",
    "\n",
    "Sample Dictionary ( n = 5) :\n",
    "\n",
    "Expected Output : {1: 1, 2: 4, 3: 9, 4: 16, 5: 25}"
   ]
  },
  {
   "cell_type": "code",
   "execution_count": null,
   "metadata": {},
   "outputs": [],
   "source": []
  },
  {
   "cell_type": "markdown",
   "metadata": {},
   "source": [
    "#### 7.  Write a Python program to combine two dictionary adding values for common keys.\n",
    "\n",
    "d1 = {'a': 100, 'b': 200, 'c':300}\n",
    "\n",
    "d2 = {'a': 300, 'b': 200, 'd':400}\n",
    "\n",
    "Sample output: Counter({'a': 400, 'b': 400, 'd': 400, 'c': 300})"
   ]
  },
  {
   "cell_type": "code",
   "execution_count": null,
   "metadata": {},
   "outputs": [],
   "source": []
  },
  {
   "cell_type": "markdown",
   "metadata": {},
   "source": [
    "#### 8. Write a Python program to create and display all combinations of letters, selecting each letter from a different key in a dictionary. \n",
    "\n",
    "Sample data : {'1':['a','b'], '2':['c','d']}\n",
    "\n",
    "Expected Output:\n",
    "\n",
    "ac\n",
    "\n",
    "ad\n",
    "\n",
    "bc\n",
    "\n",
    "bd"
   ]
  },
  {
   "cell_type": "code",
   "execution_count": null,
   "metadata": {},
   "outputs": [],
   "source": []
  },
  {
   "cell_type": "markdown",
   "metadata": {},
   "source": [
    "#### 9. Write a Python program to create a dictionary from a string. Track the count of the letters from the string.\n",
    "    \n",
    "Sample string : 'TooGood'\n",
    "    \n",
    "Expected output: {'T': 1, 'o': 4, 'G': 1, 'd': 1}"
   ]
  },
  {
   "cell_type": "code",
   "execution_count": null,
   "metadata": {},
   "outputs": [],
   "source": []
  },
  {
   "cell_type": "markdown",
   "metadata": {},
   "source": [
    "#### 10. Write a Python program to drop empty Items from a given Dictionary using dictionary comprehensions.\n",
    "\n",
    "Original Dictionary:\n",
    "    \n",
    "{'FavCol': 'Red','DoorCol':'Brown', 'FloorCol': None, 'WallCol': 'Green'}\n",
    "\n",
    "New Dictionary after dropping empty items:\n",
    "    \n",
    "{'FavCol': 'Red','DoorCol':'Brown', 'WallCol': 'Green'}"
   ]
  },
  {
   "cell_type": "code",
   "execution_count": null,
   "metadata": {},
   "outputs": [],
   "source": []
  }
 ],
 "metadata": {
  "kernelspec": {
   "display_name": "Python 3",
   "language": "python",
   "name": "python3"
  },
  "language_info": {
   "codemirror_mode": {
    "name": "ipython",
    "version": 3
   },
   "file_extension": ".py",
   "mimetype": "text/x-python",
   "name": "python",
   "nbconvert_exporter": "python",
   "pygments_lexer": "ipython3",
   "version": "3.7.9"
  }
 },
 "nbformat": 4,
 "nbformat_minor": 4
}
