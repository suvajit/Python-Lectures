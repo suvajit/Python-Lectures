{
 "cells": [
  {
   "cell_type": "markdown",
   "metadata": {},
   "source": [
    "# Exercise 3 - Part I"
   ]
  },
  {
   "cell_type": "markdown",
   "metadata": {},
   "source": [
    "## Practice exercise on Topics :\n",
    "### - List comprehension\n",
    "### - List\n",
    "### - Tuples\n",
    "### - Sets"
   ]
  },
  {
   "cell_type": "markdown",
   "metadata": {},
   "source": [
    "## Level : Easy\n",
    "---------------------------------"
   ]
  },
  {
   "cell_type": "markdown",
   "metadata": {},
   "source": [
    "#### 1. Take a list, say for example this one:\n",
    "\n",
    "  a = [1, 1, 2, 3, 5, 8, 13, 21, 34, 55, 89]\n",
    "  \n",
    "and write a program that prints out all the elements of the list that are less than 5.\n",
    "\n",
    "Try to write  SINGLE LINE program for it."
   ]
  },
  {
   "cell_type": "code",
   "execution_count": null,
   "metadata": {},
   "outputs": [],
   "source": []
  },
  {
   "cell_type": "markdown",
   "metadata": {},
   "source": [
    "#### 2. Create a list of 10 items and print out all the elements at the EVEN positions in the list.\n"
   ]
  },
  {
   "cell_type": "code",
   "execution_count": null,
   "metadata": {},
   "outputs": [],
   "source": []
  },
  {
   "cell_type": "markdown",
   "metadata": {},
   "source": [
    "#### 3. Write a Python program to print a specified list after removing the 0th, 4th and 5th elements. \n",
    "\n",
    "Sample List : ['Red', 'Green', 'White', 'Black', 'Pink', 'Yellow']\n",
    "\n",
    "Expected Output : ['Green', 'White', 'Black']"
   ]
  },
  {
   "cell_type": "code",
   "execution_count": null,
   "metadata": {},
   "outputs": [],
   "source": []
  },
  {
   "cell_type": "markdown",
   "metadata": {},
   "source": [
    "#### 4. Write a Python program to create a tuple with different data types."
   ]
  },
  {
   "cell_type": "code",
   "execution_count": null,
   "metadata": {},
   "outputs": [],
   "source": []
  },
  {
   "cell_type": "markdown",
   "metadata": {},
   "source": [
    "#### 5.  How would you access the \"this\" word from the given tuple?\n",
    "\n",
    "tup1 = ('Hello', [\"this\",\"cup\"] , 4 , 2.4)\n",
    "\n",
    "Output: 'this'"
   ]
  },
  {
   "cell_type": "code",
   "execution_count": null,
   "metadata": {},
   "outputs": [],
   "source": []
  },
  {
   "cell_type": "markdown",
   "metadata": {},
   "source": [
    "#### 6. Obtain the following output\n",
    "\n",
    "thistuple = (\"apple\", \"banana\", \"cherry\", \"orange\", \"kiwi\", \"melon\", \"mango\")\n",
    "\n",
    "Output: ('orange', 'kiwi', 'melon')"
   ]
  },
  {
   "cell_type": "code",
   "execution_count": null,
   "metadata": {},
   "outputs": [],
   "source": []
  },
  {
   "cell_type": "markdown",
   "metadata": {},
   "source": [
    "#### 7. Convert the given list to a set and display the output\n",
    "\n",
    "list_item = [\"eggs\", \"milk\", \"bread\", \"salami\", \"salad\"]\n"
   ]
  },
  {
   "cell_type": "code",
   "execution_count": null,
   "metadata": {},
   "outputs": [],
   "source": []
  },
  {
   "cell_type": "markdown",
   "metadata": {},
   "source": [
    "#### 8. Condsider the set\n",
    "\n",
    "city_set = { 'India', 'Belgium' , 'China' , 'Austria' , 'Scotland' }\n",
    "\n",
    "Remove the country China from the given set.\n",
    "\n"
   ]
  },
  {
   "cell_type": "code",
   "execution_count": null,
   "metadata": {},
   "outputs": [],
   "source": []
  },
  {
   "cell_type": "markdown",
   "metadata": {},
   "source": [
    "#### 10. Consider the two sets\n",
    "\n",
    "setA = {23, 67, 98, 34, 25, 89, 35, 56, 25, 34}\n",
    "\n",
    "setB = {89, 45, 98, 77, 60, 69, 34, 35, 23, 100}\n",
    "\n",
    "i. Return a set containing only the elements that are common to both the sets\n",
    "\n",
    "ii. Return a set containing the elements of both, setA and setB\n",
    " \n"
   ]
  },
  {
   "cell_type": "code",
   "execution_count": null,
   "metadata": {},
   "outputs": [],
   "source": []
  },
  {
   "cell_type": "markdown",
   "metadata": {},
   "source": [
    "## Level  :: Moderate \n",
    "---------------"
   ]
  },
  {
   "cell_type": "markdown",
   "metadata": {},
   "source": [
    "#### 1. How would you remove the list of duplicates from a list?\n",
    "\n",
    "Input List = [ 23, 56, 67, 23, 97, 23, 78, 33, 90, 37, 75]\n",
    "\n",
    "Output List: [ 97, 33, 67, 37, 75, 78, 23, 56, 90]\n",
    "\n",
    "Chellenge: Solve the problem in a single line of code."
   ]
  },
  {
   "cell_type": "code",
   "execution_count": 1,
   "metadata": {},
   "outputs": [
    {
     "data": {
      "text/plain": [
       "[97, 33, 67, 37, 75, 78, 23, 56, 90]"
      ]
     },
     "execution_count": 1,
     "metadata": {},
     "output_type": "execute_result"
    }
   ],
   "source": []
  },
  {
   "cell_type": "markdown",
   "metadata": {},
   "source": [
    "#### 2. Remove empty string from the list of strings\n",
    "\n",
    "List1=[“Mike”, ”Emma”, ”Kelly”, ” ”,”Brad”, “ “]"
   ]
  },
  {
   "cell_type": "code",
   "execution_count": null,
   "metadata": {},
   "outputs": [],
   "source": []
  },
  {
   "cell_type": "markdown",
   "metadata": {},
   "source": [
    "#### 3. From the given list\n",
    "\n",
    "```\n",
    "Gadgets = [“Mobile”, “Laptop”, 100, “Camera”, 310.28, “Speakers”, 27.00,\n",
    "“Television”, 1000, “Laptop Case”, “Camera Lens”].\n",
    "```\n",
    "\n",
    "Create separate lists of strings and numbers.\n",
    "\n",
    "Expected output:\n",
    "```\n",
    "[\"Mobile\",\"Laptop\",\"Camera\",\"Speakers\",\"Television\",\"Laptop Case\",\"Camera Lens\"]\n",
    "[100,310.28,27.00,1000]\n",
    "```"
   ]
  },
  {
   "cell_type": "markdown",
   "metadata": {},
   "source": [
    "#### 4. Output a list of EVEN numbers between 0 and 40 using List Comprehensions\n",
    "Hint: Create a list with the help of range()\n",
    "\n",
    "Example:\n",
    "Input: [0, 1, 2, 3, 4, 5, 6, 7, 8, 9, 10]\n",
    "\n",
    "Output: [0, 2, 4, 6, 8, 10]"
   ]
  },
  {
   "cell_type": "markdown",
   "metadata": {},
   "source": [
    "#### 4. Reverse the following tuple\n",
    "\n",
    "aTuple = (10, 20, 30, 40, 50)"
   ]
  },
  {
   "cell_type": "code",
   "execution_count": null,
   "metadata": {},
   "outputs": [],
   "source": []
  },
  {
   "cell_type": "markdown",
   "metadata": {},
   "source": [
    "#### 5. Consider the following tuple:\n",
    "\n",
    "tup1 = ('I'm', 22, 'Salary', 23.4)\n",
    "\n",
    "Can you remove the element 'Salary' from the tuple by using .pop() ? If not, where would you make use of .pop()?\n",
    "How would you remove the element 'Salary' from the given tuple?"
   ]
  },
  {
   "cell_type": "code",
   "execution_count": null,
   "metadata": {},
   "outputs": [],
   "source": []
  },
  {
   "cell_type": "markdown",
   "metadata": {},
   "source": [
    "#### 6. Access the value 20 from the following Tuple\n",
    "\n",
    "aTuple = (\"Orange\", [10, 20, 30], (5, 15, 25))"
   ]
  },
  {
   "cell_type": "code",
   "execution_count": null,
   "metadata": {},
   "outputs": [],
   "source": []
  },
  {
   "cell_type": "markdown",
   "metadata": {},
   "source": [
    "#### 7. Check if all items in the following tuple are the same\n",
    "\n",
    "```\n",
    "tuple1 = (44, 44, 44, 44, 44, 44,)\n",
    "```\n",
    "\n",
    "Expected output:\n",
    "\n",
    "```\n",
    "True\n",
    "```"
   ]
  },
  {
   "cell_type": "code",
   "execution_count": null,
   "metadata": {},
   "outputs": [],
   "source": []
  },
  {
   "cell_type": "markdown",
   "metadata": {},
   "source": [
    "#### 8. Check if \"apple\" is present in the tuple:\n",
    "\n",
    "tuple = (\"apple\", \"banana\", \"cherry\")\n",
    "\n",
    "If yes, show \"Yes, 'apple' is in the fruits tuple\" in the output"
   ]
  },
  {
   "cell_type": "markdown",
   "metadata": {},
   "source": [
    "#### 9. Return a set of all elements in either A or B, but not both \n",
    "\n",
    "set1 = {10, 20, 30, 40, 50}\n",
    "\n",
    "set2 = {30, 40, 50, 60, 70}\n",
    "\n",
    "Expected Output: {20, 70, 10, 60}"
   ]
  },
  {
   "cell_type": "code",
   "execution_count": null,
   "metadata": {},
   "outputs": [],
   "source": []
  },
  {
   "cell_type": "markdown",
   "metadata": {},
   "source": [
    "#### 9.  Complete the code to obtainthe given output\n",
    "\n",
    "A = ____(\"Python\")\n",
    "\n",
    "B = ____(\"Class\")\n",
    "\n",
    "A.______(B)\n",
    "\n",
    "print(A)\n",
    "\n",
    "Output : {'s', 'y', 'P', 'n', 'l', 'o', 'C', 'a', 'h', 't'}"
   ]
  },
  {
   "cell_type": "code",
   "execution_count": null,
   "metadata": {},
   "outputs": [],
   "source": [
    "\n"
   ]
  },
  {
   "cell_type": "markdown",
   "metadata": {},
   "source": [
    "#### 10. How do you iterate over a SET? Write a code to obtain the following output from the given set if input.\n",
    "Hint: Make use of set()\n",
    "\n",
    "Example: \n",
    "\n",
    "Input: name = \"MikeRoss\"\n",
    "\n",
    "Output: \n",
    "s\n",
    "\n",
    "o\n",
    "\n",
    "M\n",
    "\n",
    "R\n",
    "\n",
    "k\n",
    "\n",
    "e\n",
    "\n",
    "i\n"
   ]
  },
  {
   "cell_type": "code",
   "execution_count": null,
   "metadata": {},
   "outputs": [],
   "source": []
  },
  {
   "cell_type": "markdown",
   "metadata": {},
   "source": [
    "\n",
    "\n",
    "\n",
    "\n",
    "\n",
    "# Level :: Difficult \n",
    "------------------------"
   ]
  },
  {
   "cell_type": "markdown",
   "metadata": {},
   "source": [
    "#### 1.Concatenate the two lists in the following way\n",
    "\n",
    "List1 = [“Hello”,”nice to”]\n",
    "\n",
    "List2 = [“Dear”, “meet you”]\n",
    "\n",
    "Expected Output: [“Hello Dear”, “nice to meet you”]"
   ]
  },
  {
   "cell_type": "code",
   "execution_count": null,
   "metadata": {},
   "outputs": [],
   "source": []
  },
  {
   "cell_type": "markdown",
   "metadata": {},
   "source": [
    "#### 2. Write a Python program to change the position of every n-th value with the (n+1)th in a list. \n",
    "\n",
    "Sample list: [0,1,2,3,4,5]\n",
    "\n",
    "Expected Output: [1, 0, 3, 2, 5, 4]"
   ]
  },
  {
   "cell_type": "code",
   "execution_count": null,
   "metadata": {},
   "outputs": [],
   "source": []
  },
  {
   "cell_type": "markdown",
   "metadata": {},
   "source": [
    "#### 3.  Write a Python program to split a list every Nth element. \n",
    "\n",
    "Sample list: ['a', 'b', 'c', 'd', 'e', 'f', 'g', 'h', 'i', 'j', 'k', 'l', 'm', 'n']\n",
    "\n",
    "Expected Output: [['a', 'd', 'g', 'j', 'm'], ['b', 'e', 'h', 'k', 'n'], ['c', 'f', 'i', 'l']]"
   ]
  },
  {
   "cell_type": "code",
   "execution_count": null,
   "metadata": {},
   "outputs": [],
   "source": []
  },
  {
   "cell_type": "markdown",
   "metadata": {},
   "source": [
    "#### 4. How to find the repeated item of a tuple？\n",
    "\n",
    "tup=（2，4，5，6，2，3，4，4，7，8，4，3，2）\n",
    "\n",
    "Expected output：4"
   ]
  },
  {
   "cell_type": "code",
   "execution_count": null,
   "metadata": {},
   "outputs": [],
   "source": []
  },
  {
   "cell_type": "markdown",
   "metadata": {},
   "source": [
    "#### 5. Sort a tuple of tuples by 2nd item\n",
    "\n",
    "tuple1 = (('a', 23),('b', 37),('c', 11), ('d',29))\n",
    "\n",
    "Expected output:\n",
    "\n",
    "(('c', 11), ('a', 23), ('d', 29), ('b', 37))"
   ]
  },
  {
   "cell_type": "code",
   "execution_count": null,
   "metadata": {},
   "outputs": [],
   "source": []
  },
  {
   "cell_type": "markdown",
   "metadata": {},
   "source": [
    "#### 6. Write a Python program to remove an empty tuple(s) from a list of tuples. \n",
    "\n",
    "Sample data: [(), (), ('',), ('a', 'b'), ('a', 'b', 'c'), ('d')]\n",
    "\n",
    "Expected output: [('',), ('a', 'b'), ('a', 'b', 'c'), 'd']"
   ]
  },
  {
   "cell_type": "code",
   "execution_count": null,
   "metadata": {},
   "outputs": [],
   "source": []
  },
  {
   "cell_type": "markdown",
   "metadata": {},
   "source": [
    "#### 7. Complete the following code to obtain the required output\n",
    "\n",
    "The index of e: 1\n",
    "\n",
    "The index of i: 2"
   ]
  },
  {
   "cell_type": "code",
   "execution_count": null,
   "metadata": {},
   "outputs": [],
   "source": [
    "\n",
    "vowels_string = 'aeiou'\n",
    "\n",
    "#add something here\n",
    "\n",
    "\n",
    "index = vowels.index('?')\n",
    "print('?', index)\n",
    "index = vowels.index('?')\n",
    "print('?:', index)"
   ]
  },
  {
   "cell_type": "markdown",
   "metadata": {},
   "source": [
    "#### 8. How would you execute the same code using List Comprehension:\n",
    "\n",
    "For Loop Version\n",
    "\n",
    "mat = [[1,2,3,4], [5,6,7,8], [9,10,11,12], [13,14,15,16]]\n",
    "\n",
    "result = []\n",
    "\n",
    "for row in mat:\n",
    "\n",
    "    for i in row:\n",
    "    \n",
    "        if i%2 == 0:\n",
    "        \n",
    "            result.append(i)\n",
    "            \n",
    "\n",
    "print(result)\n",
    "\n",
    "\n",
    "[2, 4, 6, 8, 10, 12, 14, 16]"
   ]
  },
  {
   "cell_type": "code",
   "execution_count": null,
   "metadata": {},
   "outputs": [],
   "source": []
  },
  {
   "cell_type": "markdown",
   "metadata": {},
   "source": [
    "#### 9. Complete the given program in order to obtain the given output\n",
    "\n",
    "Hint: Use the concept of symmetric differences in Sets\n",
    "\n",
    "setA = {'a', 'e', 'i', 'o', 'u', 'g', 'h'}\n",
    "\n",
    "setB = {'a', 'e', 'z', 'b', 't', 'o', 'u'}\n",
    "\n",
    "symdiffAB = setA._________(setB)\n",
    "\n",
    "print(\"symdiffAB:\", symdiffAB, \"size:\", ____(symdiffAB))\n",
    "\n",
    "symdiffBA = setB.___________(setA)\n",
    "\n",
    "print(\"symdiffBA:\", symdiffBA, \"size:\", ____(symdiffBA))\n",
    "\n",
    "\n",
    "Output:\n",
    "\n",
    "symdiffAB: {'z', 'h', 'i', 'g', 't', 'b'} size: 6\n",
    "\n",
    "symdiffBA: {'z', 'i', 'g', 'b', 't', 'h'} size: 6\n"
   ]
  },
  {
   "cell_type": "code",
   "execution_count": null,
   "metadata": {},
   "outputs": [],
   "source": []
  },
  {
   "cell_type": "markdown",
   "metadata": {},
   "source": [
    "#### 10. Write a Python program to use of frozensets. \n",
    "Note: Frozensets behave just like sets except they are immutable."
   ]
  },
  {
   "cell_type": "code",
   "execution_count": null,
   "metadata": {},
   "outputs": [],
   "source": []
  }
 ],
 "metadata": {
  "kernelspec": {
   "display_name": "Python 3",
   "language": "python",
   "name": "python3"
  },
  "language_info": {
   "codemirror_mode": {
    "name": "ipython",
    "version": 3
   },
   "file_extension": ".py",
   "mimetype": "text/x-python",
   "name": "python",
   "nbconvert_exporter": "python",
   "pygments_lexer": "ipython3",
   "version": "3.7.9"
  }
 },
 "nbformat": 4,
 "nbformat_minor": 4
}
